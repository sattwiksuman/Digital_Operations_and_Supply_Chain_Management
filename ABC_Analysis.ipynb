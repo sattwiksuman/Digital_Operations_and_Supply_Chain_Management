{
  "nbformat": 4,
  "nbformat_minor": 0,
  "metadata": {
    "colab": {
      "name": "ABC_Analysis.ipynb",
      "provenance": [],
      "collapsed_sections": [],
      "authorship_tag": "ABX9TyMVfKPRea7n/cxMv3M0jgQb",
      "include_colab_link": true
    },
    "kernelspec": {
      "name": "python3",
      "display_name": "Python 3"
    }
  },
  "cells": [
    {
      "cell_type": "markdown",
      "metadata": {
        "id": "view-in-github",
        "colab_type": "text"
      },
      "source": [
        "<a href=\"https://colab.research.google.com/github/sattwiksuman/Digital_Operations_and_Supply_Chain_Management/blob/main/ABC_Analysis.ipynb\" target=\"_parent\"><img src=\"https://colab.research.google.com/assets/colab-badge.svg\" alt=\"Open In Colab\"/></a>"
      ]
    },
    {
      "cell_type": "code",
      "metadata": {
        "id": "WM7WiZwE1Skn"
      },
      "source": [
        "# Import the libraries\r\n",
        "\r\n",
        "import pandas as pd\r\n",
        "import matplotlib.pyplot as plt"
      ],
      "execution_count": 1,
      "outputs": []
    },
    {
      "cell_type": "code",
      "metadata": {
        "id": "_eqTRh3q1io1"
      },
      "source": [
        "#Import the excel data as a pandas dataframe\r\n",
        "\r\n",
        "df = pd.read_excel('/content/210224_01_Demand and delivery quantities Q1 2017.xlsx')"
      ],
      "execution_count": 2,
      "outputs": []
    },
    {
      "cell_type": "code",
      "metadata": {
        "colab": {
          "base_uri": "https://localhost:8080/",
          "height": 197
        },
        "id": "Ajol3mFX1yIj",
        "outputId": "405d6a1d-0234-4168-c489-c8885cfd7b24"
      },
      "source": [
        "#Have a look at the data and see the data columns:\r\n",
        "df.head()"
      ],
      "execution_count": 5,
      "outputs": [
        {
          "output_type": "execute_result",
          "data": {
            "text/html": [
              "<div>\n",
              "<style scoped>\n",
              "    .dataframe tbody tr th:only-of-type {\n",
              "        vertical-align: middle;\n",
              "    }\n",
              "\n",
              "    .dataframe tbody tr th {\n",
              "        vertical-align: top;\n",
              "    }\n",
              "\n",
              "    .dataframe thead th {\n",
              "        text-align: right;\n",
              "    }\n",
              "</style>\n",
              "<table border=\"1\" class=\"dataframe\">\n",
              "  <thead>\n",
              "    <tr style=\"text-align: right;\">\n",
              "      <th></th>\n",
              "      <th>Kunden-Nr.</th>\n",
              "      <th>Artikel-Nr.</th>\n",
              "      <th>Belegdatum</th>\n",
              "      <th>Beleg-Nr.</th>\n",
              "      <th>Menge</th>\n",
              "      <th>Stat.Menge</th>\n",
              "    </tr>\n",
              "  </thead>\n",
              "  <tbody>\n",
              "    <tr>\n",
              "      <th>0</th>\n",
              "      <td>1010020003</td>\n",
              "      <td>10002</td>\n",
              "      <td>2017-02-01</td>\n",
              "      <td>L117006002</td>\n",
              "      <td>48.0</td>\n",
              "      <td>1152.0</td>\n",
              "    </tr>\n",
              "    <tr>\n",
              "      <th>1</th>\n",
              "      <td>1010020004</td>\n",
              "      <td>10002</td>\n",
              "      <td>2017-02-02</td>\n",
              "      <td>L117006051</td>\n",
              "      <td>72.0</td>\n",
              "      <td>1728.0</td>\n",
              "    </tr>\n",
              "    <tr>\n",
              "      <th>2</th>\n",
              "      <td>1010030001</td>\n",
              "      <td>10002</td>\n",
              "      <td>2017-02-01</td>\n",
              "      <td>L117006054</td>\n",
              "      <td>96.0</td>\n",
              "      <td>2304.0</td>\n",
              "    </tr>\n",
              "    <tr>\n",
              "      <th>3</th>\n",
              "      <td>1010030002</td>\n",
              "      <td>10002</td>\n",
              "      <td>2017-01-03</td>\n",
              "      <td>L117000029</td>\n",
              "      <td>1.0</td>\n",
              "      <td>24.0</td>\n",
              "    </tr>\n",
              "    <tr>\n",
              "      <th>4</th>\n",
              "      <td>1010030002</td>\n",
              "      <td>10002</td>\n",
              "      <td>2017-01-09</td>\n",
              "      <td>L117000131</td>\n",
              "      <td>1.0</td>\n",
              "      <td>24.0</td>\n",
              "    </tr>\n",
              "  </tbody>\n",
              "</table>\n",
              "</div>"
            ],
            "text/plain": [
              "   Kunden-Nr.  Artikel-Nr. Belegdatum   Beleg-Nr.  Menge  Stat.Menge\n",
              "0  1010020003        10002 2017-02-01  L117006002   48.0      1152.0\n",
              "1  1010020004        10002 2017-02-02  L117006051   72.0      1728.0\n",
              "2  1010030001        10002 2017-02-01  L117006054   96.0      2304.0\n",
              "3  1010030002        10002 2017-01-03  L117000029    1.0        24.0\n",
              "4  1010030002        10002 2017-01-09  L117000131    1.0        24.0"
            ]
          },
          "metadata": {
            "tags": []
          },
          "execution_count": 5
        }
      ]
    },
    {
      "cell_type": "code",
      "metadata": {
        "colab": {
          "base_uri": "https://localhost:8080/"
        },
        "id": "wZhUv2C61-ZX",
        "outputId": "f7af6867-b280-404a-8bdb-720f1d0c0f86"
      },
      "source": [
        "df.describe"
      ],
      "execution_count": 6,
      "outputs": [
        {
          "output_type": "execute_result",
          "data": {
            "text/plain": [
              "<bound method NDFrame.describe of         Kunden-Nr.  Artikel-Nr. Belegdatum   Beleg-Nr.  Menge  Stat.Menge\n",
              "0       1010020003        10002 2017-02-01  L117006002   48.0      1152.0\n",
              "1       1010020004        10002 2017-02-02  L117006051   72.0      1728.0\n",
              "2       1010030001        10002 2017-02-01  L117006054   96.0      2304.0\n",
              "3       1010030002        10002 2017-01-03  L117000029    1.0        24.0\n",
              "4       1010030002        10002 2017-01-09  L117000131    1.0        24.0\n",
              "...            ...          ...        ...         ...    ...         ...\n",
              "167020  1200004033        40197 2017-03-16  L117017232    5.0        60.0\n",
              "167021  1200004048        40197 2017-03-03  L117014159    4.0        48.0\n",
              "167022  1200004049        40197 2017-03-28  L117020090    4.0        48.0\n",
              "167023  4040002000        40197 2017-03-22  L117018709    1.0        12.0\n",
              "167024  4160004000        40197 2017-02-27  L117012670    5.0        60.0\n",
              "\n",
              "[167025 rows x 6 columns]>"
            ]
          },
          "metadata": {
            "tags": []
          },
          "execution_count": 6
        }
      ]
    },
    {
      "cell_type": "code",
      "metadata": {
        "colab": {
          "base_uri": "https://localhost:8080/"
        },
        "id": "COQSJhlR2JyN",
        "outputId": "80d163be-91de-4300-f5cd-98a6992a5c3d"
      },
      "source": [
        "df.columns"
      ],
      "execution_count": 7,
      "outputs": [
        {
          "output_type": "execute_result",
          "data": {
            "text/plain": [
              "Index(['Kunden-Nr.', 'Artikel-Nr.', 'Belegdatum', 'Beleg-Nr.', 'Menge',\n",
              "       'Stat.Menge'],\n",
              "      dtype='object')"
            ]
          },
          "metadata": {
            "tags": []
          },
          "execution_count": 7
        }
      ]
    },
    {
      "cell_type": "code",
      "metadata": {
        "id": "EXNZn2ON1sG-"
      },
      "source": [
        "#Function to carry out ABC analysis on some column 'ABC_on' of the dataframe 'df' as per the data given in another column 'according_to'\r\n",
        "\r\n",
        "def ABC_analysis(df: pd.DataFrame, ABC_on: str, according_to: str):\r\n",
        "    df_artikel = df.loc[:, [ABC_on, according_to]]\r\n",
        "    df_artikel.groupby([ABC_on])[according_to].sum().reset_index()\r\n",
        "    df_artikel_sorted = df_artikel.groupby([ABC_on])[according_to].sum().reset_index()\r\n",
        "    df_artikel_sorted.sort_values(by=according_to, ascending=False, ignore_index=True, inplace=True)\r\n",
        "    df_artikel_sorted['cum_sum']=df_artikel_sorted[according_to].cumsum()\r\n",
        "    df_artikel_sorted['Cum_Sum_percent']=100*df_artikel_sorted['cum_sum']/df_artikel_sorted[according_to].sum()\r\n",
        "    df_artikel_sorted['Class']='Class B'\r\n",
        "    df_artikel_sorted.loc[df_artikel_sorted['Cum_Sum_percent']<=80, ['Class']]='Class A'\r\n",
        "    df_artikel_sorted.loc[df_artikel_sorted['Cum_Sum_percent']>95, ['Class']]='Class C'\r\n",
        "    ABC_artikel = df_artikel_sorted['Class'].value_counts(ascending=True)\r\n",
        "    plt.bar(ABC_artikel.index, ABC_artikel)\r\n",
        "    ABC_artikel_results={'number_in_class': {'Class A': ABC_artikel['Class A'], 'Class B': ABC_artikel['Class A'], \r\n",
        "                                        'Class C': ABC_artikel['Class C']}, \r\n",
        "                    'percentage_in_class': {'Class A': 100*ABC_artikel['Class A']/len(df_artikel_sorted), 'Class B': 100*ABC_artikel['Class B']/len(df_artikel_sorted), \r\n",
        "                                        'Class C': 100*ABC_artikel['Class C']/len(df_artikel_sorted)},\r\n",
        "                     'products_in_class': {'Class A': df_artikel_sorted.loc[df_artikel_sorted['Class']=='Class A', [ABC_on]][ABC_on].tolist(), \r\n",
        "                                        'Class B': df_artikel_sorted.loc[df_artikel_sorted['Class']=='Class B', [ABC_on]][ABC_on].tolist(), \r\n",
        "                                        'Class C': df_artikel_sorted.loc[df_artikel_sorted['Class']=='Class C', [ABC_on]][ABC_on].tolist()}}\r\n",
        "    print(\"results are stored in a dictionary of dictionaries with keys: 'number_in_class', 'percentage_in_class', 'products_in_class'\\n\")\r\n",
        "    print(f\"80% of revenue is obtained from {round(ABC_artikel_results['percentage_in_class']['Class A'], 2)}% or {round(ABC_artikel_results['number_in_class']['Class A'], 2)} number of items analysed here. \\n\")\r\n",
        "    return ABC_artikel_results"
      ],
      "execution_count": 29,
      "outputs": []
    },
    {
      "cell_type": "code",
      "metadata": {
        "colab": {
          "base_uri": "https://localhost:8080/",
          "height": 332
        },
        "id": "Kfp4wRRA1xUb",
        "outputId": "2c95a9e7-1ce4-4311-e44a-ace3971d8366"
      },
      "source": [
        "#ABC Analysis on Customers/ Kunden\r\n",
        "ABC_kunden_results=ABC_analysis(df = df, ABC_on='Kunden-Nr.', according_to='Stat.Menge')"
      ],
      "execution_count": 30,
      "outputs": [
        {
          "output_type": "stream",
          "text": [
            "results are stored in a dictionary of dictionaries with keys: 'number_in_class', 'percentage_in_class', 'products_in_class'\n",
            "\n",
            "80% of revenue is obtained from 24.42% or 158 number of items analysed here. \n",
            "\n"
          ],
          "name": "stdout"
        },
        {
          "output_type": "display_data",
          "data": {
            "image/png": "[encoded data removed]",
            "text/plain": [
              "<Figure size 432x288 with 1 Axes>"
            ]
          },
          "metadata": {
            "tags": [],
            "needs_background": "light"
          }
        }
      ]
    },
    {
      "cell_type": "code",
      "metadata": {
        "colab": {
          "base_uri": "https://localhost:8080/"
        },
        "id": "UeTWA2UI4JXx",
        "outputId": "9fcc64b4-3f3d-4827-de77-0bb13ee30587"
      },
      "source": [
        "#Publishing results for ABC analysis on customers/ Kunden:\r\n",
        "ABC_kunden_results['percentage_in_class']"
      ],
      "execution_count": 31,
      "outputs": [
        {
          "output_type": "execute_result",
          "data": {
            "text/plain": [
              "{'Class A': 24.420401854714065,\n",
              " 'Class B': 28.12982998454405,\n",
              " 'Class C': 47.44976816074188}"
            ]
          },
          "metadata": {
            "tags": []
          },
          "execution_count": 31
        }
      ]
    },
    {
      "cell_type": "code",
      "metadata": {
        "colab": {
          "base_uri": "https://localhost:8080/",
          "height": 332
        },
        "id": "p9N4MrUS2lsK",
        "outputId": "0eafd115-7610-4af2-a7d4-bc46269f0802"
      },
      "source": [
        "#ABC Analysis on Articles sold\r\n",
        "ABC_artikel_results=ABC_analysis(df = df, ABC_on='Artikel-Nr.', according_to='Stat.Menge')"
      ],
      "execution_count": 32,
      "outputs": [
        {
          "output_type": "stream",
          "text": [
            "results are stored in a dictionary of dictionaries with keys: 'number_in_class', 'percentage_in_class', 'products_in_class'\n",
            "\n",
            "80% of revenue is obtained from 11.39% or 23 number of items analysed here. \n",
            "\n"
          ],
          "name": "stdout"
        },
        {
          "output_type": "display_data",
          "data": {
            "image/png": "[encoded data removed]",
            "text/plain": [
              "<Figure size 432x288 with 1 Axes>"
            ]
          },
          "metadata": {
            "tags": [],
            "needs_background": "light"
          }
        }
      ]
    },
    {
      "cell_type": "code",
      "metadata": {
        "colab": {
          "base_uri": "https://localhost:8080/"
        },
        "id": "Fypn21Tg3oJ5",
        "outputId": "ca2370f4-559a-4b12-e34b-f1dc07cfc639"
      },
      "source": [
        "#Publishing results for ABC analysis on articles sold:\r\n",
        "ABC_artikel_results['percentage_in_class']"
      ],
      "execution_count": 33,
      "outputs": [
        {
          "output_type": "execute_result",
          "data": {
            "text/plain": [
              "{'Class A': 11.386138613861386,\n",
              " 'Class B': 20.297029702970296,\n",
              " 'Class C': 68.31683168316832}"
            ]
          },
          "metadata": {
            "tags": []
          },
          "execution_count": 33
        }
      ]
    }
  ]
}