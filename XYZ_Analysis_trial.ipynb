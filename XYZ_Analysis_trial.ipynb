{
  "nbformat": 4,
  "nbformat_minor": 0,
  "metadata": {
    "colab": {
      "name": "XYZ_Analysis_trial.ipynb",
      "provenance": [],
      "collapsed_sections": [],
      "toc_visible": true,
      "include_colab_link": true
    },
    "kernelspec": {
      "name": "python3",
      "display_name": "Python 3"
    }
  },
  "cells": [
    {
      "cell_type": "markdown",
      "metadata": {
        "id": "view-in-github",
        "colab_type": "text"
      },
      "source": [
        "<a href=\"https://colab.research.google.com/github/sattwiksuman/Digital_Operations_and_Supply_Chain_Management/blob/main/XYZ_Analysis_trial.ipynb\" target=\"_parent\"><img src=\"https://colab.research.google.com/assets/colab-badge.svg\" alt=\"Open In Colab\"/></a>"
      ]
    },
    {
      "cell_type": "code",
      "metadata": {
        "id": "_jEH-5s9rzzG"
      },
      "source": [
        "import pandas as pd\r\n",
        "import matplotlib.pyplot as plt\r\n",
        "from random import random"
      ],
      "execution_count": 75,
      "outputs": []
    },
    {
      "cell_type": "code",
      "metadata": {
        "id": "981c4BMRn85a"
      },
      "source": [
        "df_demand_Q1 = pd.read_excel('/content/210224_01_Demand and delivery quantities Q1 2017.xlsx')"
      ],
      "execution_count": 2,
      "outputs": []
    },
    {
      "cell_type": "code",
      "metadata": {
        "id": "LTByxfKJsjUz"
      },
      "source": [
        "df_demand_Q2 = pd.read_excel('/content/210224_01_Demand and delivery quantities Q2 2017.xlsx')"
      ],
      "execution_count": 3,
      "outputs": []
    },
    {
      "cell_type": "code",
      "metadata": {
        "id": "_Pm5dVltoEen"
      },
      "source": [
        "df_demand_Q3 = pd.read_excel('/content/210224_01_Demand and delivery quantities Q3 2017.xlsx')"
      ],
      "execution_count": 4,
      "outputs": []
    },
    {
      "cell_type": "code",
      "metadata": {
        "id": "99EOiJQ-n7Hq"
      },
      "source": [
        "df_demand_Q4 = pd.read_excel('/content/210224_02_Demand and delivery quantities Q4 2017.xlsx')"
      ],
      "execution_count": 5,
      "outputs": []
    },
    {
      "cell_type": "code",
      "metadata": {
        "id": "YFaeRgL2tcO1"
      },
      "source": [
        "frames = [df_demand_Q1, df_demand_Q2, df_demand_Q3, df_demand_Q4]\r\n",
        "df_demand = pd.concat(frames, axis=0, join=\"outer\", ignore_index=True)"
      ],
      "execution_count": 6,
      "outputs": []
    },
    {
      "cell_type": "code",
      "metadata": {
        "id": "Q8SaZt4AsqOP"
      },
      "source": [
        "df_inventory = pd.read_excel('/content/210224_01_Inventory palletts.xlsx')"
      ],
      "execution_count": 7,
      "outputs": []
    },
    {
      "cell_type": "code",
      "metadata": {
        "colab": {
          "base_uri": "https://localhost:8080/",
          "height": 287
        },
        "id": "F5Ra89sks2Ty",
        "outputId": "3fa05972-f046-44cb-afc7-2a884bb48687"
      },
      "source": [
        "df_demand.describe()"
      ],
      "execution_count": 8,
      "outputs": [
        {
          "output_type": "execute_result",
          "data": {
            "text/html": [
              "<div>\n",
              "<style scoped>\n",
              "    .dataframe tbody tr th:only-of-type {\n",
              "        vertical-align: middle;\n",
              "    }\n",
              "\n",
              "    .dataframe tbody tr th {\n",
              "        vertical-align: top;\n",
              "    }\n",
              "\n",
              "    .dataframe thead th {\n",
              "        text-align: right;\n",
              "    }\n",
              "</style>\n",
              "<table border=\"1\" class=\"dataframe\">\n",
              "  <thead>\n",
              "    <tr style=\"text-align: right;\">\n",
              "      <th></th>\n",
              "      <th>Kunden-Nr.</th>\n",
              "      <th>Artikel-Nr.</th>\n",
              "      <th>Menge</th>\n",
              "      <th>Stat.Menge</th>\n",
              "    </tr>\n",
              "  </thead>\n",
              "  <tbody>\n",
              "    <tr>\n",
              "      <th>count</th>\n",
              "      <td>7.067990e+05</td>\n",
              "      <td>706799.000000</td>\n",
              "      <td>706799.000000</td>\n",
              "      <td>706799.000000</td>\n",
              "    </tr>\n",
              "    <tr>\n",
              "      <th>mean</th>\n",
              "      <td>1.111852e+09</td>\n",
              "      <td>14206.456138</td>\n",
              "      <td>62.397938</td>\n",
              "      <td>719.994373</td>\n",
              "    </tr>\n",
              "    <tr>\n",
              "      <th>std</th>\n",
              "      <td>2.677478e+08</td>\n",
              "      <td>5805.159665</td>\n",
              "      <td>150.690666</td>\n",
              "      <td>1714.722498</td>\n",
              "    </tr>\n",
              "    <tr>\n",
              "      <th>min</th>\n",
              "      <td>1.130220e+08</td>\n",
              "      <td>10002.000000</td>\n",
              "      <td>-185.000000</td>\n",
              "      <td>-2220.000000</td>\n",
              "    </tr>\n",
              "    <tr>\n",
              "      <th>25%</th>\n",
              "      <td>1.080001e+09</td>\n",
              "      <td>10272.000000</td>\n",
              "      <td>5.000000</td>\n",
              "      <td>60.000000</td>\n",
              "    </tr>\n",
              "    <tr>\n",
              "      <th>50%</th>\n",
              "      <td>1.080001e+09</td>\n",
              "      <td>10409.000000</td>\n",
              "      <td>15.000000</td>\n",
              "      <td>180.000000</td>\n",
              "    </tr>\n",
              "    <tr>\n",
              "      <th>75%</th>\n",
              "      <td>1.080003e+09</td>\n",
              "      <td>20330.000000</td>\n",
              "      <td>40.000000</td>\n",
              "      <td>480.000000</td>\n",
              "    </tr>\n",
              "    <tr>\n",
              "      <th>max</th>\n",
              "      <td>4.230009e+09</td>\n",
              "      <td>40197.000000</td>\n",
              "      <td>4872.000000</td>\n",
              "      <td>30720.000000</td>\n",
              "    </tr>\n",
              "  </tbody>\n",
              "</table>\n",
              "</div>"
            ],
            "text/plain": [
              "         Kunden-Nr.    Artikel-Nr.          Menge     Stat.Menge\n",
              "count  7.067990e+05  706799.000000  706799.000000  706799.000000\n",
              "mean   1.111852e+09   14206.456138      62.397938     719.994373\n",
              "std    2.677478e+08    5805.159665     150.690666    1714.722498\n",
              "min    1.130220e+08   10002.000000    -185.000000   -2220.000000\n",
              "25%    1.080001e+09   10272.000000       5.000000      60.000000\n",
              "50%    1.080001e+09   10409.000000      15.000000     180.000000\n",
              "75%    1.080003e+09   20330.000000      40.000000     480.000000\n",
              "max    4.230009e+09   40197.000000    4872.000000   30720.000000"
            ]
          },
          "metadata": {
            "tags": []
          },
          "execution_count": 8
        }
      ]
    },
    {
      "cell_type": "code",
      "metadata": {
        "colab": {
          "base_uri": "https://localhost:8080/",
          "height": 197
        },
        "id": "2uQxJVG0s6Jo",
        "outputId": "6056f70a-f5a8-49ef-c4a3-8f799ed3ca8c"
      },
      "source": [
        "df_demand.head()"
      ],
      "execution_count": 9,
      "outputs": [
        {
          "output_type": "execute_result",
          "data": {
            "text/html": [
              "<div>\n",
              "<style scoped>\n",
              "    .dataframe tbody tr th:only-of-type {\n",
              "        vertical-align: middle;\n",
              "    }\n",
              "\n",
              "    .dataframe tbody tr th {\n",
              "        vertical-align: top;\n",
              "    }\n",
              "\n",
              "    .dataframe thead th {\n",
              "        text-align: right;\n",
              "    }\n",
              "</style>\n",
              "<table border=\"1\" class=\"dataframe\">\n",
              "  <thead>\n",
              "    <tr style=\"text-align: right;\">\n",
              "      <th></th>\n",
              "      <th>Kunden-Nr.</th>\n",
              "      <th>Artikel-Nr.</th>\n",
              "      <th>Belegdatum</th>\n",
              "      <th>Beleg-Nr.</th>\n",
              "      <th>Menge</th>\n",
              "      <th>Stat.Menge</th>\n",
              "    </tr>\n",
              "  </thead>\n",
              "  <tbody>\n",
              "    <tr>\n",
              "      <th>0</th>\n",
              "      <td>1010020003</td>\n",
              "      <td>10002</td>\n",
              "      <td>2017-02-01</td>\n",
              "      <td>L117006002</td>\n",
              "      <td>48.0</td>\n",
              "      <td>1152.0</td>\n",
              "    </tr>\n",
              "    <tr>\n",
              "      <th>1</th>\n",
              "      <td>1010020004</td>\n",
              "      <td>10002</td>\n",
              "      <td>2017-02-02</td>\n",
              "      <td>L117006051</td>\n",
              "      <td>72.0</td>\n",
              "      <td>1728.0</td>\n",
              "    </tr>\n",
              "    <tr>\n",
              "      <th>2</th>\n",
              "      <td>1010030001</td>\n",
              "      <td>10002</td>\n",
              "      <td>2017-02-01</td>\n",
              "      <td>L117006054</td>\n",
              "      <td>96.0</td>\n",
              "      <td>2304.0</td>\n",
              "    </tr>\n",
              "    <tr>\n",
              "      <th>3</th>\n",
              "      <td>1010030002</td>\n",
              "      <td>10002</td>\n",
              "      <td>2017-01-03</td>\n",
              "      <td>L117000029</td>\n",
              "      <td>1.0</td>\n",
              "      <td>24.0</td>\n",
              "    </tr>\n",
              "    <tr>\n",
              "      <th>4</th>\n",
              "      <td>1010030002</td>\n",
              "      <td>10002</td>\n",
              "      <td>2017-01-09</td>\n",
              "      <td>L117000131</td>\n",
              "      <td>1.0</td>\n",
              "      <td>24.0</td>\n",
              "    </tr>\n",
              "  </tbody>\n",
              "</table>\n",
              "</div>"
            ],
            "text/plain": [
              "   Kunden-Nr.  Artikel-Nr. Belegdatum   Beleg-Nr.  Menge  Stat.Menge\n",
              "0  1010020003        10002 2017-02-01  L117006002   48.0      1152.0\n",
              "1  1010020004        10002 2017-02-02  L117006051   72.0      1728.0\n",
              "2  1010030001        10002 2017-02-01  L117006054   96.0      2304.0\n",
              "3  1010030002        10002 2017-01-03  L117000029    1.0        24.0\n",
              "4  1010030002        10002 2017-01-09  L117000131    1.0        24.0"
            ]
          },
          "metadata": {
            "tags": []
          },
          "execution_count": 9
        }
      ]
    },
    {
      "cell_type": "code",
      "metadata": {
        "colab": {
          "base_uri": "https://localhost:8080/"
        },
        "id": "HaMwPkrluyEu",
        "outputId": "c08b1af7-2c4d-4c43-9b18-c7bb657a04cd"
      },
      "source": [
        "df_demand.info()"
      ],
      "execution_count": 10,
      "outputs": [
        {
          "output_type": "stream",
          "text": [
            "<class 'pandas.core.frame.DataFrame'>\n",
            "RangeIndex: 706799 entries, 0 to 706798\n",
            "Data columns (total 6 columns):\n",
            " #   Column       Non-Null Count   Dtype         \n",
            "---  ------       --------------   -----         \n",
            " 0   Kunden-Nr.   706799 non-null  int64         \n",
            " 1   Artikel-Nr.  706799 non-null  int64         \n",
            " 2   Belegdatum   706799 non-null  datetime64[ns]\n",
            " 3   Beleg-Nr.    706794 non-null  object        \n",
            " 4   Menge        706799 non-null  float64       \n",
            " 5   Stat.Menge   706799 non-null  float64       \n",
            "dtypes: datetime64[ns](1), float64(2), int64(2), object(1)\n",
            "memory usage: 32.4+ MB\n"
          ],
          "name": "stdout"
        }
      ]
    },
    {
      "cell_type": "code",
      "metadata": {
        "id": "1sEI4H8xtcXw"
      },
      "source": [
        "df_demand.sort_values(by='Belegdatum', ignore_index=True, inplace=True)"
      ],
      "execution_count": 11,
      "outputs": []
    },
    {
      "cell_type": "code",
      "metadata": {
        "colab": {
          "base_uri": "https://localhost:8080/",
          "height": 197
        },
        "id": "2X-PSHEvt3Aj",
        "outputId": "01588c2d-5fc7-4e97-bf3f-cfd67c28778b"
      },
      "source": [
        "df_demand.head()"
      ],
      "execution_count": 12,
      "outputs": [
        {
          "output_type": "execute_result",
          "data": {
            "text/html": [
              "<div>\n",
              "<style scoped>\n",
              "    .dataframe tbody tr th:only-of-type {\n",
              "        vertical-align: middle;\n",
              "    }\n",
              "\n",
              "    .dataframe tbody tr th {\n",
              "        vertical-align: top;\n",
              "    }\n",
              "\n",
              "    .dataframe thead th {\n",
              "        text-align: right;\n",
              "    }\n",
              "</style>\n",
              "<table border=\"1\" class=\"dataframe\">\n",
              "  <thead>\n",
              "    <tr style=\"text-align: right;\">\n",
              "      <th></th>\n",
              "      <th>Kunden-Nr.</th>\n",
              "      <th>Artikel-Nr.</th>\n",
              "      <th>Belegdatum</th>\n",
              "      <th>Beleg-Nr.</th>\n",
              "      <th>Menge</th>\n",
              "      <th>Stat.Menge</th>\n",
              "    </tr>\n",
              "  </thead>\n",
              "  <tbody>\n",
              "    <tr>\n",
              "      <th>0</th>\n",
              "      <td>1190022000</td>\n",
              "      <td>10101</td>\n",
              "      <td>2017-01-02</td>\n",
              "      <td>L117000262</td>\n",
              "      <td>36.0</td>\n",
              "      <td>432.0</td>\n",
              "    </tr>\n",
              "    <tr>\n",
              "      <th>1</th>\n",
              "      <td>1080002048</td>\n",
              "      <td>10276</td>\n",
              "      <td>2017-01-02</td>\n",
              "      <td>L117000221</td>\n",
              "      <td>5.0</td>\n",
              "      <td>60.0</td>\n",
              "    </tr>\n",
              "    <tr>\n",
              "      <th>2</th>\n",
              "      <td>1080001224</td>\n",
              "      <td>10238</td>\n",
              "      <td>2017-01-02</td>\n",
              "      <td>L117000191</td>\n",
              "      <td>5.0</td>\n",
              "      <td>60.0</td>\n",
              "    </tr>\n",
              "    <tr>\n",
              "      <th>3</th>\n",
              "      <td>1080001216</td>\n",
              "      <td>10327</td>\n",
              "      <td>2017-01-02</td>\n",
              "      <td>L117000160</td>\n",
              "      <td>5.0</td>\n",
              "      <td>60.0</td>\n",
              "    </tr>\n",
              "    <tr>\n",
              "      <th>4</th>\n",
              "      <td>1080001152</td>\n",
              "      <td>10414</td>\n",
              "      <td>2017-01-02</td>\n",
              "      <td>L117000009</td>\n",
              "      <td>5.0</td>\n",
              "      <td>60.0</td>\n",
              "    </tr>\n",
              "  </tbody>\n",
              "</table>\n",
              "</div>"
            ],
            "text/plain": [
              "   Kunden-Nr.  Artikel-Nr. Belegdatum   Beleg-Nr.  Menge  Stat.Menge\n",
              "0  1190022000        10101 2017-01-02  L117000262   36.0       432.0\n",
              "1  1080002048        10276 2017-01-02  L117000221    5.0        60.0\n",
              "2  1080001224        10238 2017-01-02  L117000191    5.0        60.0\n",
              "3  1080001216        10327 2017-01-02  L117000160    5.0        60.0\n",
              "4  1080001152        10414 2017-01-02  L117000009    5.0        60.0"
            ]
          },
          "metadata": {
            "tags": []
          },
          "execution_count": 12
        }
      ]
    },
    {
      "cell_type": "code",
      "metadata": {
        "colab": {
          "base_uri": "https://localhost:8080/",
          "height": 282
        },
        "id": "r8T-8Eh6t5KH",
        "outputId": "88246af9-4194-4aee-eb74-44fdab3f2c19"
      },
      "source": [
        "plt.plot(df_demand.loc[:]['Belegdatum'], df_demand.loc[:]['Stat.Menge'])"
      ],
      "execution_count": 13,
      "outputs": [
        {
          "output_type": "execute_result",
          "data": {
            "text/plain": [
              "[<matplotlib.lines.Line2D at 0x7efeb16ea4d0>]"
            ]
          },
          "metadata": {
            "tags": []
          },
          "execution_count": 13
        },
        {
          "output_type": "display_data",
          "data": {
            "image/png": "[encoded data removed]",
            "text/plain": [
              "<Figure size 432x288 with 1 Axes>"
            ]
          },
          "metadata": {
            "tags": [],
            "needs_background": "light"
          }
        }
      ]
    },
    {
      "cell_type": "code",
      "metadata": {
        "colab": {
          "base_uri": "https://localhost:8080/",
          "height": 118
        },
        "id": "E_Vp9rTPuO0R",
        "outputId": "fc6bd6e5-3373-4cf2-c2cf-4cde373b6687"
      },
      "source": [
        "#Algorithm for XYZ analysis:\r\n",
        "'''\r\n",
        "1. Find a list of all the articles\r\n",
        "2. Group by articles and have columns for sum and count and mean\r\n",
        "3. For each article:\r\n",
        "        find mean sales #done already in previous step!\r\n",
        "        variance coefficient = vm = sqrt((1/n)* (Stat.Menge - mean)**2)/mean\r\n",
        "        Append this value to the group by table generated in step 2\r\n",
        "4. Sort the grouped article table as per increasing order of variance\r\n",
        "5. Add a column 'Class' and initiate it as 'Class Y'\r\n",
        "6. If df_grouped['vm'] < =0.5 : df_grouped['Class']='Class X'\r\n",
        "7. If df_grouped['vm'] > 1 : df_grouped['Class']='Class Z'\r\n",
        "'''"
      ],
      "execution_count": 14,
      "outputs": [
        {
          "output_type": "execute_result",
          "data": {
            "application/vnd.google.colaboratory.intrinsic+json": {
              "type": "string"
            },
            "text/plain": [
              "\"\\n1. Find a list of all the articles\\n2. Group by articles and have columns for sum and count and mean\\n3. For each article:\\n        find mean sales #done already in previous step!\\n        variance coefficient = vm = sqrt((1/n)* (Stat.Menge - mean)**2)/mean\\n        Append this value to the group by table generated in step 2\\n4. Sort the grouped article table as per increasing order of variance\\n5. Add a column 'Class' and initiate it as 'Class Y'\\n6. If df_grouped['vm'] < =0.5 : df_grouped['Class']='Class X'\\n7. If df_grouped['vm'] > 1 : df_grouped['Class']='Class Z'\\n\""
            ]
          },
          "metadata": {
            "tags": []
          },
          "execution_count": 14
        }
      ]
    },
    {
      "cell_type": "code",
      "metadata": {
        "colab": {
          "base_uri": "https://localhost:8080/"
        },
        "id": "69J3f0JpuT62",
        "outputId": "423a55eb-97d2-481a-e0d8-6395109ab1e4"
      },
      "source": [
        "df_demand['Artikel-Nr.'].value_counts()   #number of articles"
      ],
      "execution_count": 15,
      "outputs": [
        {
          "output_type": "execute_result",
          "data": {
            "text/plain": [
              "10408    22321\n",
              "20210    22192\n",
              "10101    21530\n",
              "20230    19108\n",
              "20381    18038\n",
              "         ...  \n",
              "11580        2\n",
              "11588        2\n",
              "11560        1\n",
              "10348        1\n",
              "10346        1\n",
              "Name: Artikel-Nr., Length: 215, dtype: int64"
            ]
          },
          "metadata": {
            "tags": []
          },
          "execution_count": 15
        }
      ]
    },
    {
      "cell_type": "code",
      "metadata": {
        "colab": {
          "base_uri": "https://localhost:8080/",
          "height": 282
        },
        "id": "JiGHKM6A0MS3",
        "outputId": "5aa00281-1a79-4b05-8d21-d89ffa594796"
      },
      "source": [
        "#track number of articles and their percentage share \r\n",
        "df_article_abc = df_demand['Artikel-Nr.'].value_counts().rename_axis('Article_Num').reset_index(name='ABC')\r\n",
        "df_article_abc['Article_Num']= df_article_abc['Article_Num'].astype(str)\r\n",
        "plt.bar(df_article_abc['Article_Num'], df_article_abc['ABC'])"
      ],
      "execution_count": 16,
      "outputs": [
        {
          "output_type": "execute_result",
          "data": {
            "text/plain": [
              "<BarContainer object of 215 artists>"
            ]
          },
          "metadata": {
            "tags": []
          },
          "execution_count": 16
        },
        {
          "output_type": "display_data",
          "data": {
            "image/png": "[encoded data removed]",
            "text/plain": [
              "<Figure size 432x288 with 1 Axes>"
            ]
          },
          "metadata": {
            "tags": [],
            "needs_background": "light"
          }
        }
      ]
    },
    {
      "cell_type": "code",
      "metadata": {
        "colab": {
          "base_uri": "https://localhost:8080/"
        },
        "id": "NP6QpLm3zK7Z",
        "outputId": "2d722509-5c52-46d9-8dfd-2e4074e3029c"
      },
      "source": [
        "len(df_demand['Kunden-Nr.'].value_counts())    #number of customers"
      ],
      "execution_count": 17,
      "outputs": [
        {
          "output_type": "execute_result",
          "data": {
            "text/plain": [
              "767"
            ]
          },
          "metadata": {
            "tags": []
          },
          "execution_count": 17
        }
      ]
    },
    {
      "cell_type": "code",
      "metadata": {
        "id": "btCoCXbvzj5v"
      },
      "source": [
        "articles = df_demand['Artikel-Nr.'].unique()   #list of all articles"
      ],
      "execution_count": 18,
      "outputs": []
    },
    {
      "cell_type": "code",
      "metadata": {
        "colab": {
          "base_uri": "https://localhost:8080/"
        },
        "id": "JZcD0aUy7HOv",
        "outputId": "4ca81501-95dd-49e9-8e99-d8346f6f2eea"
      },
      "source": [
        "len(articles)"
      ],
      "execution_count": 19,
      "outputs": [
        {
          "output_type": "execute_result",
          "data": {
            "text/plain": [
              "215"
            ]
          },
          "metadata": {
            "tags": []
          },
          "execution_count": 19
        }
      ]
    },
    {
      "cell_type": "code",
      "metadata": {
        "id": "wXfkxFff7JWt"
      },
      "source": [
        "article_group = df_demand.groupby(['Artikel-Nr.'])"
      ],
      "execution_count": 20,
      "outputs": []
    },
    {
      "cell_type": "code",
      "metadata": {
        "colab": {
          "base_uri": "https://localhost:8080/"
        },
        "id": "Pnu_RrK7j9Iw",
        "outputId": "904b0e72-676c-46bd-ec9b-58e3d7bc33aa"
      },
      "source": [
        "article_group['Stat.Menge'].mean()"
      ],
      "execution_count": 21,
      "outputs": [
        {
          "output_type": "execute_result",
          "data": {
            "text/plain": [
              "Artikel-Nr.\n",
              "10002     437.485714\n",
              "10003    1864.563895\n",
              "10004     957.845854\n",
              "10006     506.212987\n",
              "10007    1085.680182\n",
              "            ...     \n",
              "40193      58.285714\n",
              "40194      57.428571\n",
              "40195      47.763547\n",
              "40196      52.210526\n",
              "40197      51.900000\n",
              "Name: Stat.Menge, Length: 215, dtype: float64"
            ]
          },
          "metadata": {
            "tags": []
          },
          "execution_count": 21
        }
      ]
    },
    {
      "cell_type": "code",
      "metadata": {
        "id": "0-Ctc3he9LpE"
      },
      "source": [
        "dummy_df = article_group.get_group(10408).copy()"
      ],
      "execution_count": 22,
      "outputs": []
    },
    {
      "cell_type": "code",
      "metadata": {
        "colab": {
          "base_uri": "https://localhost:8080/",
          "height": 197
        },
        "id": "CVRUB1VA9UF5",
        "outputId": "a85b884e-f000-47fb-f6d2-4a738fe3b0cd"
      },
      "source": [
        "dummy_df.head()"
      ],
      "execution_count": 23,
      "outputs": [
        {
          "output_type": "execute_result",
          "data": {
            "text/html": [
              "<div>\n",
              "<style scoped>\n",
              "    .dataframe tbody tr th:only-of-type {\n",
              "        vertical-align: middle;\n",
              "    }\n",
              "\n",
              "    .dataframe tbody tr th {\n",
              "        vertical-align: top;\n",
              "    }\n",
              "\n",
              "    .dataframe thead th {\n",
              "        text-align: right;\n",
              "    }\n",
              "</style>\n",
              "<table border=\"1\" class=\"dataframe\">\n",
              "  <thead>\n",
              "    <tr style=\"text-align: right;\">\n",
              "      <th></th>\n",
              "      <th>Kunden-Nr.</th>\n",
              "      <th>Artikel-Nr.</th>\n",
              "      <th>Belegdatum</th>\n",
              "      <th>Beleg-Nr.</th>\n",
              "      <th>Menge</th>\n",
              "      <th>Stat.Menge</th>\n",
              "    </tr>\n",
              "  </thead>\n",
              "  <tbody>\n",
              "    <tr>\n",
              "      <th>324</th>\n",
              "      <td>1050010000</td>\n",
              "      <td>10408</td>\n",
              "      <td>2017-01-02</td>\n",
              "      <td>L117000297</td>\n",
              "      <td>560.0</td>\n",
              "      <td>6720.0</td>\n",
              "    </tr>\n",
              "    <tr>\n",
              "      <th>597</th>\n",
              "      <td>1080002055</td>\n",
              "      <td>10408</td>\n",
              "      <td>2017-01-02</td>\n",
              "      <td>L117000077</td>\n",
              "      <td>40.0</td>\n",
              "      <td>480.0</td>\n",
              "    </tr>\n",
              "    <tr>\n",
              "      <th>602</th>\n",
              "      <td>1080002052</td>\n",
              "      <td>10408</td>\n",
              "      <td>2017-01-02</td>\n",
              "      <td>L117000227</td>\n",
              "      <td>40.0</td>\n",
              "      <td>480.0</td>\n",
              "    </tr>\n",
              "    <tr>\n",
              "      <th>604</th>\n",
              "      <td>1080002049</td>\n",
              "      <td>10408</td>\n",
              "      <td>2017-01-02</td>\n",
              "      <td>L117000215</td>\n",
              "      <td>40.0</td>\n",
              "      <td>480.0</td>\n",
              "    </tr>\n",
              "    <tr>\n",
              "      <th>607</th>\n",
              "      <td>1080002048</td>\n",
              "      <td>10408</td>\n",
              "      <td>2017-01-02</td>\n",
              "      <td>L117000221</td>\n",
              "      <td>120.0</td>\n",
              "      <td>1440.0</td>\n",
              "    </tr>\n",
              "  </tbody>\n",
              "</table>\n",
              "</div>"
            ],
            "text/plain": [
              "     Kunden-Nr.  Artikel-Nr. Belegdatum   Beleg-Nr.  Menge  Stat.Menge\n",
              "324  1050010000        10408 2017-01-02  L117000297  560.0      6720.0\n",
              "597  1080002055        10408 2017-01-02  L117000077   40.0       480.0\n",
              "602  1080002052        10408 2017-01-02  L117000227   40.0       480.0\n",
              "604  1080002049        10408 2017-01-02  L117000215   40.0       480.0\n",
              "607  1080002048        10408 2017-01-02  L117000221  120.0      1440.0"
            ]
          },
          "metadata": {
            "tags": []
          },
          "execution_count": 23
        }
      ]
    },
    {
      "cell_type": "code",
      "metadata": {
        "id": "O316gW5o9oQX"
      },
      "source": [
        "dummy_df.sort_values(by='Belegdatum', ignore_index=True, inplace=True)"
      ],
      "execution_count": 24,
      "outputs": []
    },
    {
      "cell_type": "code",
      "metadata": {
        "colab": {
          "base_uri": "https://localhost:8080/",
          "height": 197
        },
        "id": "JvmhaR5T9yic",
        "outputId": "4c06fa23-9a75-4e1b-f6c4-081dcad7f120"
      },
      "source": [
        "dummy_df.head()"
      ],
      "execution_count": 25,
      "outputs": [
        {
          "output_type": "execute_result",
          "data": {
            "text/html": [
              "<div>\n",
              "<style scoped>\n",
              "    .dataframe tbody tr th:only-of-type {\n",
              "        vertical-align: middle;\n",
              "    }\n",
              "\n",
              "    .dataframe tbody tr th {\n",
              "        vertical-align: top;\n",
              "    }\n",
              "\n",
              "    .dataframe thead th {\n",
              "        text-align: right;\n",
              "    }\n",
              "</style>\n",
              "<table border=\"1\" class=\"dataframe\">\n",
              "  <thead>\n",
              "    <tr style=\"text-align: right;\">\n",
              "      <th></th>\n",
              "      <th>Kunden-Nr.</th>\n",
              "      <th>Artikel-Nr.</th>\n",
              "      <th>Belegdatum</th>\n",
              "      <th>Beleg-Nr.</th>\n",
              "      <th>Menge</th>\n",
              "      <th>Stat.Menge</th>\n",
              "    </tr>\n",
              "  </thead>\n",
              "  <tbody>\n",
              "    <tr>\n",
              "      <th>0</th>\n",
              "      <td>1050010000</td>\n",
              "      <td>10408</td>\n",
              "      <td>2017-01-02</td>\n",
              "      <td>L117000297</td>\n",
              "      <td>560.0</td>\n",
              "      <td>6720.0</td>\n",
              "    </tr>\n",
              "    <tr>\n",
              "      <th>1</th>\n",
              "      <td>1080001136</td>\n",
              "      <td>10408</td>\n",
              "      <td>2017-01-02</td>\n",
              "      <td>L117000105</td>\n",
              "      <td>40.0</td>\n",
              "      <td>480.0</td>\n",
              "    </tr>\n",
              "    <tr>\n",
              "      <th>2</th>\n",
              "      <td>1080001152</td>\n",
              "      <td>10408</td>\n",
              "      <td>2017-01-02</td>\n",
              "      <td>L117000009</td>\n",
              "      <td>40.0</td>\n",
              "      <td>480.0</td>\n",
              "    </tr>\n",
              "    <tr>\n",
              "      <th>3</th>\n",
              "      <td>1080001159</td>\n",
              "      <td>10408</td>\n",
              "      <td>2017-01-02</td>\n",
              "      <td>L117000050</td>\n",
              "      <td>80.0</td>\n",
              "      <td>960.0</td>\n",
              "    </tr>\n",
              "    <tr>\n",
              "      <th>4</th>\n",
              "      <td>1080001269</td>\n",
              "      <td>10408</td>\n",
              "      <td>2017-01-02</td>\n",
              "      <td>L117000175</td>\n",
              "      <td>40.0</td>\n",
              "      <td>480.0</td>\n",
              "    </tr>\n",
              "  </tbody>\n",
              "</table>\n",
              "</div>"
            ],
            "text/plain": [
              "   Kunden-Nr.  Artikel-Nr. Belegdatum   Beleg-Nr.  Menge  Stat.Menge\n",
              "0  1050010000        10408 2017-01-02  L117000297  560.0      6720.0\n",
              "1  1080001136        10408 2017-01-02  L117000105   40.0       480.0\n",
              "2  1080001152        10408 2017-01-02  L117000009   40.0       480.0\n",
              "3  1080001159        10408 2017-01-02  L117000050   80.0       960.0\n",
              "4  1080001269        10408 2017-01-02  L117000175   40.0       480.0"
            ]
          },
          "metadata": {
            "tags": []
          },
          "execution_count": 25
        }
      ]
    },
    {
      "cell_type": "code",
      "metadata": {
        "colab": {
          "base_uri": "https://localhost:8080/",
          "height": 437
        },
        "id": "YaN5pFtfpulI",
        "outputId": "9c84b1b9-aee8-494e-8b12-207a6db49a81"
      },
      "source": [
        "dummy_df.set_index(pd.DatetimeIndex(dummy_df['Belegdatum']))"
      ],
      "execution_count": 26,
      "outputs": [
        {
          "output_type": "execute_result",
          "data": {
            "text/html": [
              "<div>\n",
              "<style scoped>\n",
              "    .dataframe tbody tr th:only-of-type {\n",
              "        vertical-align: middle;\n",
              "    }\n",
              "\n",
              "    .dataframe tbody tr th {\n",
              "        vertical-align: top;\n",
              "    }\n",
              "\n",
              "    .dataframe thead th {\n",
              "        text-align: right;\n",
              "    }\n",
              "</style>\n",
              "<table border=\"1\" class=\"dataframe\">\n",
              "  <thead>\n",
              "    <tr style=\"text-align: right;\">\n",
              "      <th></th>\n",
              "      <th>Kunden-Nr.</th>\n",
              "      <th>Artikel-Nr.</th>\n",
              "      <th>Belegdatum</th>\n",
              "      <th>Beleg-Nr.</th>\n",
              "      <th>Menge</th>\n",
              "      <th>Stat.Menge</th>\n",
              "    </tr>\n",
              "    <tr>\n",
              "      <th>Belegdatum</th>\n",
              "      <th></th>\n",
              "      <th></th>\n",
              "      <th></th>\n",
              "      <th></th>\n",
              "      <th></th>\n",
              "      <th></th>\n",
              "    </tr>\n",
              "  </thead>\n",
              "  <tbody>\n",
              "    <tr>\n",
              "      <th>2017-01-02</th>\n",
              "      <td>1050010000</td>\n",
              "      <td>10408</td>\n",
              "      <td>2017-01-02</td>\n",
              "      <td>L117000297</td>\n",
              "      <td>560.0</td>\n",
              "      <td>6720.0</td>\n",
              "    </tr>\n",
              "    <tr>\n",
              "      <th>2017-01-02</th>\n",
              "      <td>1080001136</td>\n",
              "      <td>10408</td>\n",
              "      <td>2017-01-02</td>\n",
              "      <td>L117000105</td>\n",
              "      <td>40.0</td>\n",
              "      <td>480.0</td>\n",
              "    </tr>\n",
              "    <tr>\n",
              "      <th>2017-01-02</th>\n",
              "      <td>1080001152</td>\n",
              "      <td>10408</td>\n",
              "      <td>2017-01-02</td>\n",
              "      <td>L117000009</td>\n",
              "      <td>40.0</td>\n",
              "      <td>480.0</td>\n",
              "    </tr>\n",
              "    <tr>\n",
              "      <th>2017-01-02</th>\n",
              "      <td>1080001159</td>\n",
              "      <td>10408</td>\n",
              "      <td>2017-01-02</td>\n",
              "      <td>L117000050</td>\n",
              "      <td>80.0</td>\n",
              "      <td>960.0</td>\n",
              "    </tr>\n",
              "    <tr>\n",
              "      <th>2017-01-02</th>\n",
              "      <td>1080001269</td>\n",
              "      <td>10408</td>\n",
              "      <td>2017-01-02</td>\n",
              "      <td>L117000175</td>\n",
              "      <td>40.0</td>\n",
              "      <td>480.0</td>\n",
              "    </tr>\n",
              "    <tr>\n",
              "      <th>...</th>\n",
              "      <td>...</td>\n",
              "      <td>...</td>\n",
              "      <td>...</td>\n",
              "      <td>...</td>\n",
              "      <td>...</td>\n",
              "      <td>...</td>\n",
              "    </tr>\n",
              "    <tr>\n",
              "      <th>2017-12-30</th>\n",
              "      <td>1080001201</td>\n",
              "      <td>10408</td>\n",
              "      <td>2017-12-30</td>\n",
              "      <td>L117088082</td>\n",
              "      <td>40.0</td>\n",
              "      <td>480.0</td>\n",
              "    </tr>\n",
              "    <tr>\n",
              "      <th>2017-12-30</th>\n",
              "      <td>1080001113</td>\n",
              "      <td>10408</td>\n",
              "      <td>2017-12-30</td>\n",
              "      <td>L117088084</td>\n",
              "      <td>40.0</td>\n",
              "      <td>480.0</td>\n",
              "    </tr>\n",
              "    <tr>\n",
              "      <th>2017-12-30</th>\n",
              "      <td>1080002005</td>\n",
              "      <td>10408</td>\n",
              "      <td>2017-12-30</td>\n",
              "      <td>L117088114</td>\n",
              "      <td>40.0</td>\n",
              "      <td>480.0</td>\n",
              "    </tr>\n",
              "    <tr>\n",
              "      <th>2017-12-30</th>\n",
              "      <td>1080001227</td>\n",
              "      <td>10408</td>\n",
              "      <td>2017-12-30</td>\n",
              "      <td>L117088144</td>\n",
              "      <td>40.0</td>\n",
              "      <td>480.0</td>\n",
              "    </tr>\n",
              "    <tr>\n",
              "      <th>2017-12-30</th>\n",
              "      <td>1080002072</td>\n",
              "      <td>10408</td>\n",
              "      <td>2017-12-30</td>\n",
              "      <td>L117088152</td>\n",
              "      <td>60.0</td>\n",
              "      <td>720.0</td>\n",
              "    </tr>\n",
              "  </tbody>\n",
              "</table>\n",
              "<p>22321 rows × 6 columns</p>\n",
              "</div>"
            ],
            "text/plain": [
              "            Kunden-Nr.  Artikel-Nr. Belegdatum   Beleg-Nr.  Menge  Stat.Menge\n",
              "Belegdatum                                                                   \n",
              "2017-01-02  1050010000        10408 2017-01-02  L117000297  560.0      6720.0\n",
              "2017-01-02  1080001136        10408 2017-01-02  L117000105   40.0       480.0\n",
              "2017-01-02  1080001152        10408 2017-01-02  L117000009   40.0       480.0\n",
              "2017-01-02  1080001159        10408 2017-01-02  L117000050   80.0       960.0\n",
              "2017-01-02  1080001269        10408 2017-01-02  L117000175   40.0       480.0\n",
              "...                ...          ...        ...         ...    ...         ...\n",
              "2017-12-30  1080001201        10408 2017-12-30  L117088082   40.0       480.0\n",
              "2017-12-30  1080001113        10408 2017-12-30  L117088084   40.0       480.0\n",
              "2017-12-30  1080002005        10408 2017-12-30  L117088114   40.0       480.0\n",
              "2017-12-30  1080001227        10408 2017-12-30  L117088144   40.0       480.0\n",
              "2017-12-30  1080002072        10408 2017-12-30  L117088152   60.0       720.0\n",
              "\n",
              "[22321 rows x 6 columns]"
            ]
          },
          "metadata": {
            "tags": []
          },
          "execution_count": 26
        }
      ]
    },
    {
      "cell_type": "code",
      "metadata": {
        "id": "EhmM_XNJ964U"
      },
      "source": [
        "dummy_df.index=dummy_df['Belegdatum']\r\n",
        "weekly_val = dummy_df.groupby(pd.Grouper(freq='W'))['Stat.Menge'].sum().reset_index()"
      ],
      "execution_count": 27,
      "outputs": []
    },
    {
      "cell_type": "code",
      "metadata": {
        "colab": {
          "base_uri": "https://localhost:8080/",
          "height": 1000
        },
        "id": "OiHmPIaq-4n1",
        "outputId": "280e25cf-52c6-406b-d815-754ebd02f1c4"
      },
      "source": [
        "weekly_val"
      ],
      "execution_count": 28,
      "outputs": [
        {
          "output_type": "execute_result",
          "data": {
            "text/html": [
              "<div>\n",
              "<style scoped>\n",
              "    .dataframe tbody tr th:only-of-type {\n",
              "        vertical-align: middle;\n",
              "    }\n",
              "\n",
              "    .dataframe tbody tr th {\n",
              "        vertical-align: top;\n",
              "    }\n",
              "\n",
              "    .dataframe thead th {\n",
              "        text-align: right;\n",
              "    }\n",
              "</style>\n",
              "<table border=\"1\" class=\"dataframe\">\n",
              "  <thead>\n",
              "    <tr style=\"text-align: right;\">\n",
              "      <th></th>\n",
              "      <th>Belegdatum</th>\n",
              "      <th>Stat.Menge</th>\n",
              "    </tr>\n",
              "  </thead>\n",
              "  <tbody>\n",
              "    <tr>\n",
              "      <th>0</th>\n",
              "      <td>2017-01-08</td>\n",
              "      <td>724476.0</td>\n",
              "    </tr>\n",
              "    <tr>\n",
              "      <th>1</th>\n",
              "      <td>2017-01-15</td>\n",
              "      <td>702492.0</td>\n",
              "    </tr>\n",
              "    <tr>\n",
              "      <th>2</th>\n",
              "      <td>2017-01-22</td>\n",
              "      <td>899928.0</td>\n",
              "    </tr>\n",
              "    <tr>\n",
              "      <th>3</th>\n",
              "      <td>2017-01-29</td>\n",
              "      <td>1120812.0</td>\n",
              "    </tr>\n",
              "    <tr>\n",
              "      <th>4</th>\n",
              "      <td>2017-02-05</td>\n",
              "      <td>1094664.0</td>\n",
              "    </tr>\n",
              "    <tr>\n",
              "      <th>5</th>\n",
              "      <td>2017-02-12</td>\n",
              "      <td>1070976.0</td>\n",
              "    </tr>\n",
              "    <tr>\n",
              "      <th>6</th>\n",
              "      <td>2017-02-19</td>\n",
              "      <td>1194780.0</td>\n",
              "    </tr>\n",
              "    <tr>\n",
              "      <th>7</th>\n",
              "      <td>2017-02-26</td>\n",
              "      <td>1090356.0</td>\n",
              "    </tr>\n",
              "    <tr>\n",
              "      <th>8</th>\n",
              "      <td>2017-03-05</td>\n",
              "      <td>870852.0</td>\n",
              "    </tr>\n",
              "    <tr>\n",
              "      <th>9</th>\n",
              "      <td>2017-03-12</td>\n",
              "      <td>1012764.0</td>\n",
              "    </tr>\n",
              "    <tr>\n",
              "      <th>10</th>\n",
              "      <td>2017-03-19</td>\n",
              "      <td>1083360.0</td>\n",
              "    </tr>\n",
              "    <tr>\n",
              "      <th>11</th>\n",
              "      <td>2017-03-26</td>\n",
              "      <td>1007376.0</td>\n",
              "    </tr>\n",
              "    <tr>\n",
              "      <th>12</th>\n",
              "      <td>2017-04-02</td>\n",
              "      <td>991740.0</td>\n",
              "    </tr>\n",
              "    <tr>\n",
              "      <th>13</th>\n",
              "      <td>2017-04-09</td>\n",
              "      <td>1544724.0</td>\n",
              "    </tr>\n",
              "    <tr>\n",
              "      <th>14</th>\n",
              "      <td>2017-04-16</td>\n",
              "      <td>1318068.0</td>\n",
              "    </tr>\n",
              "    <tr>\n",
              "      <th>15</th>\n",
              "      <td>2017-04-23</td>\n",
              "      <td>952740.0</td>\n",
              "    </tr>\n",
              "    <tr>\n",
              "      <th>16</th>\n",
              "      <td>2017-04-30</td>\n",
              "      <td>1109460.0</td>\n",
              "    </tr>\n",
              "    <tr>\n",
              "      <th>17</th>\n",
              "      <td>2017-05-07</td>\n",
              "      <td>859704.0</td>\n",
              "    </tr>\n",
              "    <tr>\n",
              "      <th>18</th>\n",
              "      <td>2017-05-14</td>\n",
              "      <td>982740.0</td>\n",
              "    </tr>\n",
              "    <tr>\n",
              "      <th>19</th>\n",
              "      <td>2017-05-21</td>\n",
              "      <td>1159440.0</td>\n",
              "    </tr>\n",
              "    <tr>\n",
              "      <th>20</th>\n",
              "      <td>2017-05-28</td>\n",
              "      <td>1370136.0</td>\n",
              "    </tr>\n",
              "    <tr>\n",
              "      <th>21</th>\n",
              "      <td>2017-06-04</td>\n",
              "      <td>1298772.0</td>\n",
              "    </tr>\n",
              "    <tr>\n",
              "      <th>22</th>\n",
              "      <td>2017-06-11</td>\n",
              "      <td>1387152.0</td>\n",
              "    </tr>\n",
              "    <tr>\n",
              "      <th>23</th>\n",
              "      <td>2017-06-18</td>\n",
              "      <td>1315836.0</td>\n",
              "    </tr>\n",
              "    <tr>\n",
              "      <th>24</th>\n",
              "      <td>2017-06-25</td>\n",
              "      <td>1385100.0</td>\n",
              "    </tr>\n",
              "    <tr>\n",
              "      <th>25</th>\n",
              "      <td>2017-07-02</td>\n",
              "      <td>993960.0</td>\n",
              "    </tr>\n",
              "    <tr>\n",
              "      <th>26</th>\n",
              "      <td>2017-07-09</td>\n",
              "      <td>948048.0</td>\n",
              "    </tr>\n",
              "    <tr>\n",
              "      <th>27</th>\n",
              "      <td>2017-07-16</td>\n",
              "      <td>1088268.0</td>\n",
              "    </tr>\n",
              "    <tr>\n",
              "      <th>28</th>\n",
              "      <td>2017-07-23</td>\n",
              "      <td>1126548.0</td>\n",
              "    </tr>\n",
              "    <tr>\n",
              "      <th>29</th>\n",
              "      <td>2017-07-30</td>\n",
              "      <td>930504.0</td>\n",
              "    </tr>\n",
              "    <tr>\n",
              "      <th>30</th>\n",
              "      <td>2017-08-06</td>\n",
              "      <td>907236.0</td>\n",
              "    </tr>\n",
              "    <tr>\n",
              "      <th>31</th>\n",
              "      <td>2017-08-13</td>\n",
              "      <td>1090620.0</td>\n",
              "    </tr>\n",
              "    <tr>\n",
              "      <th>32</th>\n",
              "      <td>2017-08-20</td>\n",
              "      <td>1361760.0</td>\n",
              "    </tr>\n",
              "    <tr>\n",
              "      <th>33</th>\n",
              "      <td>2017-08-27</td>\n",
              "      <td>1001436.0</td>\n",
              "    </tr>\n",
              "    <tr>\n",
              "      <th>34</th>\n",
              "      <td>2017-09-03</td>\n",
              "      <td>1256928.0</td>\n",
              "    </tr>\n",
              "    <tr>\n",
              "      <th>35</th>\n",
              "      <td>2017-09-10</td>\n",
              "      <td>1287684.0</td>\n",
              "    </tr>\n",
              "    <tr>\n",
              "      <th>36</th>\n",
              "      <td>2017-09-17</td>\n",
              "      <td>1290660.0</td>\n",
              "    </tr>\n",
              "    <tr>\n",
              "      <th>37</th>\n",
              "      <td>2017-09-24</td>\n",
              "      <td>881580.0</td>\n",
              "    </tr>\n",
              "    <tr>\n",
              "      <th>38</th>\n",
              "      <td>2017-10-01</td>\n",
              "      <td>662520.0</td>\n",
              "    </tr>\n",
              "    <tr>\n",
              "      <th>39</th>\n",
              "      <td>2017-10-08</td>\n",
              "      <td>998088.0</td>\n",
              "    </tr>\n",
              "    <tr>\n",
              "      <th>40</th>\n",
              "      <td>2017-10-15</td>\n",
              "      <td>890772.0</td>\n",
              "    </tr>\n",
              "    <tr>\n",
              "      <th>41</th>\n",
              "      <td>2017-10-22</td>\n",
              "      <td>788820.0</td>\n",
              "    </tr>\n",
              "    <tr>\n",
              "      <th>42</th>\n",
              "      <td>2017-10-29</td>\n",
              "      <td>831036.0</td>\n",
              "    </tr>\n",
              "    <tr>\n",
              "      <th>43</th>\n",
              "      <td>2017-11-05</td>\n",
              "      <td>681780.0</td>\n",
              "    </tr>\n",
              "    <tr>\n",
              "      <th>44</th>\n",
              "      <td>2017-11-12</td>\n",
              "      <td>1360056.0</td>\n",
              "    </tr>\n",
              "    <tr>\n",
              "      <th>45</th>\n",
              "      <td>2017-11-19</td>\n",
              "      <td>890028.0</td>\n",
              "    </tr>\n",
              "    <tr>\n",
              "      <th>46</th>\n",
              "      <td>2017-11-26</td>\n",
              "      <td>976140.0</td>\n",
              "    </tr>\n",
              "    <tr>\n",
              "      <th>47</th>\n",
              "      <td>2017-12-03</td>\n",
              "      <td>857088.0</td>\n",
              "    </tr>\n",
              "    <tr>\n",
              "      <th>48</th>\n",
              "      <td>2017-12-10</td>\n",
              "      <td>870024.0</td>\n",
              "    </tr>\n",
              "    <tr>\n",
              "      <th>49</th>\n",
              "      <td>2017-12-17</td>\n",
              "      <td>1183632.0</td>\n",
              "    </tr>\n",
              "    <tr>\n",
              "      <th>50</th>\n",
              "      <td>2017-12-24</td>\n",
              "      <td>1455972.0</td>\n",
              "    </tr>\n",
              "    <tr>\n",
              "      <th>51</th>\n",
              "      <td>2017-12-31</td>\n",
              "      <td>506520.0</td>\n",
              "    </tr>\n",
              "  </tbody>\n",
              "</table>\n",
              "</div>"
            ],
            "text/plain": [
              "   Belegdatum  Stat.Menge\n",
              "0  2017-01-08    724476.0\n",
              "1  2017-01-15    702492.0\n",
              "2  2017-01-22    899928.0\n",
              "3  2017-01-29   1120812.0\n",
              "4  2017-02-05   1094664.0\n",
              "5  2017-02-12   1070976.0\n",
              "6  2017-02-19   1194780.0\n",
              "7  2017-02-26   1090356.0\n",
              "8  2017-03-05    870852.0\n",
              "9  2017-03-12   1012764.0\n",
              "10 2017-03-19   1083360.0\n",
              "11 2017-03-26   1007376.0\n",
              "12 2017-04-02    991740.0\n",
              "13 2017-04-09   1544724.0\n",
              "14 2017-04-16   1318068.0\n",
              "15 2017-04-23    952740.0\n",
              "16 2017-04-30   1109460.0\n",
              "17 2017-05-07    859704.0\n",
              "18 2017-05-14    982740.0\n",
              "19 2017-05-21   1159440.0\n",
              "20 2017-05-28   1370136.0\n",
              "21 2017-06-04   1298772.0\n",
              "22 2017-06-11   1387152.0\n",
              "23 2017-06-18   1315836.0\n",
              "24 2017-06-25   1385100.0\n",
              "25 2017-07-02    993960.0\n",
              "26 2017-07-09    948048.0\n",
              "27 2017-07-16   1088268.0\n",
              "28 2017-07-23   1126548.0\n",
              "29 2017-07-30    930504.0\n",
              "30 2017-08-06    907236.0\n",
              "31 2017-08-13   1090620.0\n",
              "32 2017-08-20   1361760.0\n",
              "33 2017-08-27   1001436.0\n",
              "34 2017-09-03   1256928.0\n",
              "35 2017-09-10   1287684.0\n",
              "36 2017-09-17   1290660.0\n",
              "37 2017-09-24    881580.0\n",
              "38 2017-10-01    662520.0\n",
              "39 2017-10-08    998088.0\n",
              "40 2017-10-15    890772.0\n",
              "41 2017-10-22    788820.0\n",
              "42 2017-10-29    831036.0\n",
              "43 2017-11-05    681780.0\n",
              "44 2017-11-12   1360056.0\n",
              "45 2017-11-19    890028.0\n",
              "46 2017-11-26    976140.0\n",
              "47 2017-12-03    857088.0\n",
              "48 2017-12-10    870024.0\n",
              "49 2017-12-17   1183632.0\n",
              "50 2017-12-24   1455972.0\n",
              "51 2017-12-31    506520.0"
            ]
          },
          "metadata": {
            "tags": []
          },
          "execution_count": 28
        }
      ]
    },
    {
      "cell_type": "code",
      "metadata": {
        "id": "lg7U29epjHrY"
      },
      "source": [
        "bi_weekly_val = dummy_df.groupby(pd.Grouper(freq='14D'))['Stat.Menge'].sum().reset_index()"
      ],
      "execution_count": 29,
      "outputs": []
    },
    {
      "cell_type": "code",
      "metadata": {
        "colab": {
          "base_uri": "https://localhost:8080/",
          "height": 827
        },
        "id": "1DUJZuSPjSuv",
        "outputId": "3390e942-91c9-4f5c-9750-37d4c3c9269b"
      },
      "source": [
        "bi_weekly_val"
      ],
      "execution_count": 30,
      "outputs": [
        {
          "output_type": "execute_result",
          "data": {
            "text/html": [
              "<div>\n",
              "<style scoped>\n",
              "    .dataframe tbody tr th:only-of-type {\n",
              "        vertical-align: middle;\n",
              "    }\n",
              "\n",
              "    .dataframe tbody tr th {\n",
              "        vertical-align: top;\n",
              "    }\n",
              "\n",
              "    .dataframe thead th {\n",
              "        text-align: right;\n",
              "    }\n",
              "</style>\n",
              "<table border=\"1\" class=\"dataframe\">\n",
              "  <thead>\n",
              "    <tr style=\"text-align: right;\">\n",
              "      <th></th>\n",
              "      <th>Belegdatum</th>\n",
              "      <th>Stat.Menge</th>\n",
              "    </tr>\n",
              "  </thead>\n",
              "  <tbody>\n",
              "    <tr>\n",
              "      <th>0</th>\n",
              "      <td>2017-01-02</td>\n",
              "      <td>1426968.0</td>\n",
              "    </tr>\n",
              "    <tr>\n",
              "      <th>1</th>\n",
              "      <td>2017-01-16</td>\n",
              "      <td>2020740.0</td>\n",
              "    </tr>\n",
              "    <tr>\n",
              "      <th>2</th>\n",
              "      <td>2017-01-30</td>\n",
              "      <td>2165640.0</td>\n",
              "    </tr>\n",
              "    <tr>\n",
              "      <th>3</th>\n",
              "      <td>2017-02-13</td>\n",
              "      <td>2285136.0</td>\n",
              "    </tr>\n",
              "    <tr>\n",
              "      <th>4</th>\n",
              "      <td>2017-02-27</td>\n",
              "      <td>1883616.0</td>\n",
              "    </tr>\n",
              "    <tr>\n",
              "      <th>5</th>\n",
              "      <td>2017-03-13</td>\n",
              "      <td>2090736.0</td>\n",
              "    </tr>\n",
              "    <tr>\n",
              "      <th>6</th>\n",
              "      <td>2017-03-27</td>\n",
              "      <td>2536464.0</td>\n",
              "    </tr>\n",
              "    <tr>\n",
              "      <th>7</th>\n",
              "      <td>2017-04-10</td>\n",
              "      <td>2270808.0</td>\n",
              "    </tr>\n",
              "    <tr>\n",
              "      <th>8</th>\n",
              "      <td>2017-04-24</td>\n",
              "      <td>1969164.0</td>\n",
              "    </tr>\n",
              "    <tr>\n",
              "      <th>9</th>\n",
              "      <td>2017-05-08</td>\n",
              "      <td>2142180.0</td>\n",
              "    </tr>\n",
              "    <tr>\n",
              "      <th>10</th>\n",
              "      <td>2017-05-22</td>\n",
              "      <td>2668908.0</td>\n",
              "    </tr>\n",
              "    <tr>\n",
              "      <th>11</th>\n",
              "      <td>2017-06-05</td>\n",
              "      <td>2702988.0</td>\n",
              "    </tr>\n",
              "    <tr>\n",
              "      <th>12</th>\n",
              "      <td>2017-06-19</td>\n",
              "      <td>2379060.0</td>\n",
              "    </tr>\n",
              "    <tr>\n",
              "      <th>13</th>\n",
              "      <td>2017-07-03</td>\n",
              "      <td>2036316.0</td>\n",
              "    </tr>\n",
              "    <tr>\n",
              "      <th>14</th>\n",
              "      <td>2017-07-17</td>\n",
              "      <td>2057052.0</td>\n",
              "    </tr>\n",
              "    <tr>\n",
              "      <th>15</th>\n",
              "      <td>2017-07-31</td>\n",
              "      <td>1997856.0</td>\n",
              "    </tr>\n",
              "    <tr>\n",
              "      <th>16</th>\n",
              "      <td>2017-08-14</td>\n",
              "      <td>2363196.0</td>\n",
              "    </tr>\n",
              "    <tr>\n",
              "      <th>17</th>\n",
              "      <td>2017-08-28</td>\n",
              "      <td>2544612.0</td>\n",
              "    </tr>\n",
              "    <tr>\n",
              "      <th>18</th>\n",
              "      <td>2017-09-11</td>\n",
              "      <td>2172240.0</td>\n",
              "    </tr>\n",
              "    <tr>\n",
              "      <th>19</th>\n",
              "      <td>2017-09-25</td>\n",
              "      <td>1660608.0</td>\n",
              "    </tr>\n",
              "    <tr>\n",
              "      <th>20</th>\n",
              "      <td>2017-10-09</td>\n",
              "      <td>1679592.0</td>\n",
              "    </tr>\n",
              "    <tr>\n",
              "      <th>21</th>\n",
              "      <td>2017-10-23</td>\n",
              "      <td>1512816.0</td>\n",
              "    </tr>\n",
              "    <tr>\n",
              "      <th>22</th>\n",
              "      <td>2017-11-06</td>\n",
              "      <td>2250084.0</td>\n",
              "    </tr>\n",
              "    <tr>\n",
              "      <th>23</th>\n",
              "      <td>2017-11-20</td>\n",
              "      <td>1833228.0</td>\n",
              "    </tr>\n",
              "    <tr>\n",
              "      <th>24</th>\n",
              "      <td>2017-12-04</td>\n",
              "      <td>2053656.0</td>\n",
              "    </tr>\n",
              "    <tr>\n",
              "      <th>25</th>\n",
              "      <td>2017-12-18</td>\n",
              "      <td>1962492.0</td>\n",
              "    </tr>\n",
              "  </tbody>\n",
              "</table>\n",
              "</div>"
            ],
            "text/plain": [
              "   Belegdatum  Stat.Menge\n",
              "0  2017-01-02   1426968.0\n",
              "1  2017-01-16   2020740.0\n",
              "2  2017-01-30   2165640.0\n",
              "3  2017-02-13   2285136.0\n",
              "4  2017-02-27   1883616.0\n",
              "5  2017-03-13   2090736.0\n",
              "6  2017-03-27   2536464.0\n",
              "7  2017-04-10   2270808.0\n",
              "8  2017-04-24   1969164.0\n",
              "9  2017-05-08   2142180.0\n",
              "10 2017-05-22   2668908.0\n",
              "11 2017-06-05   2702988.0\n",
              "12 2017-06-19   2379060.0\n",
              "13 2017-07-03   2036316.0\n",
              "14 2017-07-17   2057052.0\n",
              "15 2017-07-31   1997856.0\n",
              "16 2017-08-14   2363196.0\n",
              "17 2017-08-28   2544612.0\n",
              "18 2017-09-11   2172240.0\n",
              "19 2017-09-25   1660608.0\n",
              "20 2017-10-09   1679592.0\n",
              "21 2017-10-23   1512816.0\n",
              "22 2017-11-06   2250084.0\n",
              "23 2017-11-20   1833228.0\n",
              "24 2017-12-04   2053656.0\n",
              "25 2017-12-18   1962492.0"
            ]
          },
          "metadata": {
            "tags": []
          },
          "execution_count": 30
        }
      ]
    },
    {
      "cell_type": "code",
      "metadata": {
        "id": "M4wtH6gW_41O"
      },
      "source": [
        "sum_sold = weekly_val['Stat.Menge'].sum()"
      ],
      "execution_count": 31,
      "outputs": []
    },
    {
      "cell_type": "code",
      "metadata": {
        "id": "nmgA2J4MDZpI"
      },
      "source": [
        "mean_sold = weekly_val['Stat.Menge'].mean()"
      ],
      "execution_count": 32,
      "outputs": []
    },
    {
      "cell_type": "code",
      "metadata": {
        "id": "9kRCQvMvD3z4"
      },
      "source": [
        "std_sold = weekly_val['Stat.Menge'].std(ddof=0)"
      ],
      "execution_count": 33,
      "outputs": []
    },
    {
      "cell_type": "code",
      "metadata": {
        "colab": {
          "base_uri": "https://localhost:8080/"
        },
        "id": "hXqQW9fXDbAV",
        "outputId": "6d28242e-6606-4d92-fc7d-a456e85b5ef9"
      },
      "source": [
        "print (sum_sold, mean_sold, std_sold)"
      ],
      "execution_count": 34,
      "outputs": [
        {
          "output_type": "stream",
          "text": [
            "54666156.0 1051272.2307692308 224011.425751749\n"
          ],
          "name": "stdout"
        }
      ]
    },
    {
      "cell_type": "code",
      "metadata": {
        "colab": {
          "base_uri": "https://localhost:8080/",
          "height": 292
        },
        "id": "3b8GyOzP79Hn",
        "outputId": "39a98fb3-f85f-4d2a-bbf0-617e5aa2cf21"
      },
      "source": [
        "plt.plot(weekly_val['Belegdatum'], weekly_val['Stat.Menge'])"
      ],
      "execution_count": 76,
      "outputs": [
        {
          "output_type": "execute_result",
          "data": {
            "text/plain": [
              "[<matplotlib.lines.Line2D at 0x7efeb257ed90>]"
            ]
          },
          "metadata": {
            "tags": []
          },
          "execution_count": 76
        },
        {
          "output_type": "display_data",
          "data": {
            "image/png": "[encoded data removed]",
            "text/plain": [
              "<Figure size 432x288 with 1 Axes>"
            ]
          },
          "metadata": {
            "tags": [],
            "needs_background": "light"
          }
        }
      ]
    },
    {
      "cell_type": "code",
      "metadata": {
        "id": "ES5k35vkDzpV"
      },
      "source": [
        "df_article_grouped = df_demand.groupby(['Artikel-Nr.'])['Stat.Menge'].sum().reset_index().copy()"
      ],
      "execution_count": 35,
      "outputs": []
    },
    {
      "cell_type": "code",
      "metadata": {
        "id": "RfyaQne9UAmv"
      },
      "source": [
        "df_article_grouped['Sum']='NAN'\r\n",
        "df_article_grouped['Mean']='NAN'\r\n",
        "df_article_grouped['Std']='NAN'"
      ],
      "execution_count": 36,
      "outputs": []
    },
    {
      "cell_type": "code",
      "metadata": {
        "colab": {
          "base_uri": "https://localhost:8080/",
          "height": 197
        },
        "id": "H20yga93UDRm",
        "outputId": "d17a62ad-f28d-4848-9279-a3b6844d1ae3"
      },
      "source": [
        "df_article_grouped.head()"
      ],
      "execution_count": 37,
      "outputs": [
        {
          "output_type": "execute_result",
          "data": {
            "text/html": [
              "<div>\n",
              "<style scoped>\n",
              "    .dataframe tbody tr th:only-of-type {\n",
              "        vertical-align: middle;\n",
              "    }\n",
              "\n",
              "    .dataframe tbody tr th {\n",
              "        vertical-align: top;\n",
              "    }\n",
              "\n",
              "    .dataframe thead th {\n",
              "        text-align: right;\n",
              "    }\n",
              "</style>\n",
              "<table border=\"1\" class=\"dataframe\">\n",
              "  <thead>\n",
              "    <tr style=\"text-align: right;\">\n",
              "      <th></th>\n",
              "      <th>Artikel-Nr.</th>\n",
              "      <th>Stat.Menge</th>\n",
              "      <th>Sum</th>\n",
              "      <th>Mean</th>\n",
              "      <th>Std</th>\n",
              "    </tr>\n",
              "  </thead>\n",
              "  <tbody>\n",
              "    <tr>\n",
              "      <th>0</th>\n",
              "      <td>10002</td>\n",
              "      <td>15312.0</td>\n",
              "      <td>NAN</td>\n",
              "      <td>NAN</td>\n",
              "      <td>NAN</td>\n",
              "    </tr>\n",
              "    <tr>\n",
              "      <th>1</th>\n",
              "      <td>10003</td>\n",
              "      <td>3676920.0</td>\n",
              "      <td>NAN</td>\n",
              "      <td>NAN</td>\n",
              "      <td>NAN</td>\n",
              "    </tr>\n",
              "    <tr>\n",
              "      <th>2</th>\n",
              "      <td>10004</td>\n",
              "      <td>981792.0</td>\n",
              "      <td>NAN</td>\n",
              "      <td>NAN</td>\n",
              "      <td>NAN</td>\n",
              "    </tr>\n",
              "    <tr>\n",
              "      <th>3</th>\n",
              "      <td>10006</td>\n",
              "      <td>584676.0</td>\n",
              "      <td>NAN</td>\n",
              "      <td>NAN</td>\n",
              "      <td>NAN</td>\n",
              "    </tr>\n",
              "    <tr>\n",
              "      <th>4</th>\n",
              "      <td>10007</td>\n",
              "      <td>2383068.0</td>\n",
              "      <td>NAN</td>\n",
              "      <td>NAN</td>\n",
              "      <td>NAN</td>\n",
              "    </tr>\n",
              "  </tbody>\n",
              "</table>\n",
              "</div>"
            ],
            "text/plain": [
              "   Artikel-Nr.  Stat.Menge  Sum Mean  Std\n",
              "0        10002     15312.0  NAN  NAN  NAN\n",
              "1        10003   3676920.0  NAN  NAN  NAN\n",
              "2        10004    981792.0  NAN  NAN  NAN\n",
              "3        10006    584676.0  NAN  NAN  NAN\n",
              "4        10007   2383068.0  NAN  NAN  NAN"
            ]
          },
          "metadata": {
            "tags": []
          },
          "execution_count": 37
        }
      ]
    },
    {
      "cell_type": "code",
      "metadata": {
        "id": "DVrEHEoyUofk"
      },
      "source": [
        "df_article_grouped.loc[df_article_grouped['Artikel-Nr.']==10545, 'Sum']=sum_sold"
      ],
      "execution_count": 38,
      "outputs": []
    },
    {
      "cell_type": "code",
      "metadata": {
        "colab": {
          "base_uri": "https://localhost:8080/"
        },
        "id": "8yMKrGz0U_5S",
        "outputId": "7402e3fe-8195-4380-ef25-39f2fa6c6cf1"
      },
      "source": [
        "df_article_grouped[df_article_grouped['Artikel-Nr.']==10545]['Sum']"
      ],
      "execution_count": 39,
      "outputs": [
        {
          "output_type": "execute_result",
          "data": {
            "text/plain": [
              "83    5.46662e+07\n",
              "Name: Sum, dtype: object"
            ]
          },
          "metadata": {
            "tags": []
          },
          "execution_count": 39
        }
      ]
    },
    {
      "cell_type": "code",
      "metadata": {
        "id": "XVY5poIyVWNU"
      },
      "source": [
        "def XYZ_Analysis(df, XYZ_on, according_to, date_column):\r\n",
        "    items = df[XYZ_on].unique()   #list of all articles\r\n",
        "    items_group = df.groupby([XYZ_on])\r\n",
        "    df_items_grouped = df.groupby(XYZ_on)[according_to].sum().reset_index().copy()\r\n",
        "    df_items_grouped['Sum']='NAN'\r\n",
        "    df_items_grouped['Mean']='NAN'\r\n",
        "    df_items_grouped['Std']='NAN'\r\n",
        "    for item in items:\r\n",
        "        dummy_df = items_group.get_group(item).copy()\r\n",
        "        dummy_df.sort_values(by=date_column, ignore_index=True, inplace=True)\r\n",
        "        dummy_df.index=dummy_df[date_column]\r\n",
        "        weekly_val = dummy_df.groupby(pd.Grouper(freq='W'))[according_to].sum().reset_index()\r\n",
        "        sum_sold = weekly_val[according_to].sum()\r\n",
        "        mean_sold = weekly_val[according_to].mean()\r\n",
        "        std_sold = weekly_val[according_to].std(ddof=0)\r\n",
        "        df_items_grouped.loc[df_article_grouped[XYZ_on]==item, 'Sum']=sum_sold\r\n",
        "        df_items_grouped.loc[df_article_grouped[XYZ_on]==item, 'Mean']=mean_sold\r\n",
        "        df_items_grouped.loc[df_article_grouped[XYZ_on]==item, 'Std']=std_sold\r\n",
        "    df_items_grouped['Variance_Coeff']=df_items_grouped['Std']/df_items_grouped['Mean']\r\n",
        "    df_items_grouped.sort_values(by='Variance_Coeff', ascending=True, ignore_index=True, inplace=True)\r\n",
        "    df_items_grouped['Class']='Class Y'\r\n",
        "    df_items_grouped.loc[df_items_grouped['Variance_Coeff']<=0.5, ['Class']]='Class X'\r\n",
        "    df_items_grouped.loc[df_items_grouped['Variance_Coeff']>1, ['Class']]='Class Z'\r\n",
        "    return(df_items_grouped)"
      ],
      "execution_count": 40,
      "outputs": []
    },
    {
      "cell_type": "code",
      "metadata": {
        "id": "popQnUyYYzsJ"
      },
      "source": [
        "df_articles_XYZ = XYZ_Analysis(df_demand, 'Artikel-Nr.', 'Stat.Menge', 'Belegdatum')"
      ],
      "execution_count": 41,
      "outputs": []
    },
    {
      "cell_type": "code",
      "metadata": {
        "colab": {
          "base_uri": "https://localhost:8080/",
          "height": 197
        },
        "id": "rvwo5Em-ZDtL",
        "outputId": "64cc8310-9bbc-46cf-f19b-6164c5cfda4b"
      },
      "source": [
        "df_articles_XYZ.head()"
      ],
      "execution_count": 47,
      "outputs": [
        {
          "output_type": "execute_result",
          "data": {
            "text/html": [
              "<div>\n",
              "<style scoped>\n",
              "    .dataframe tbody tr th:only-of-type {\n",
              "        vertical-align: middle;\n",
              "    }\n",
              "\n",
              "    .dataframe tbody tr th {\n",
              "        vertical-align: top;\n",
              "    }\n",
              "\n",
              "    .dataframe thead th {\n",
              "        text-align: right;\n",
              "    }\n",
              "</style>\n",
              "<table border=\"1\" class=\"dataframe\">\n",
              "  <thead>\n",
              "    <tr style=\"text-align: right;\">\n",
              "      <th></th>\n",
              "      <th>Artikel-Nr.</th>\n",
              "      <th>Stat.Menge</th>\n",
              "      <th>Sum</th>\n",
              "      <th>Mean</th>\n",
              "      <th>Std</th>\n",
              "      <th>Variance_Coeff</th>\n",
              "      <th>Class</th>\n",
              "    </tr>\n",
              "  </thead>\n",
              "  <tbody>\n",
              "    <tr>\n",
              "      <th>0</th>\n",
              "      <td>10408</td>\n",
              "      <td>54666156.0</td>\n",
              "      <td>5.46662e+07</td>\n",
              "      <td>1.05127e+06</td>\n",
              "      <td>224011</td>\n",
              "      <td>0.213086</td>\n",
              "      <td>Class X</td>\n",
              "    </tr>\n",
              "    <tr>\n",
              "      <th>1</th>\n",
              "      <td>10101</td>\n",
              "      <td>35821248.0</td>\n",
              "      <td>3.58212e+07</td>\n",
              "      <td>688870</td>\n",
              "      <td>166256</td>\n",
              "      <td>0.241346</td>\n",
              "      <td>Class X</td>\n",
              "    </tr>\n",
              "    <tr>\n",
              "      <th>2</th>\n",
              "      <td>10407</td>\n",
              "      <td>31911372.0</td>\n",
              "      <td>3.19114e+07</td>\n",
              "      <td>613680</td>\n",
              "      <td>149174</td>\n",
              "      <td>0.243081</td>\n",
              "      <td>Class X</td>\n",
              "    </tr>\n",
              "    <tr>\n",
              "      <th>3</th>\n",
              "      <td>20410</td>\n",
              "      <td>49738548.0</td>\n",
              "      <td>4.97385e+07</td>\n",
              "      <td>956511</td>\n",
              "      <td>143935</td>\n",
              "      <td>0.150479</td>\n",
              "      <td>Class X</td>\n",
              "    </tr>\n",
              "    <tr>\n",
              "      <th>4</th>\n",
              "      <td>10100</td>\n",
              "      <td>20949888.0</td>\n",
              "      <td>2.09499e+07</td>\n",
              "      <td>402882</td>\n",
              "      <td>112902</td>\n",
              "      <td>0.280236</td>\n",
              "      <td>Class X</td>\n",
              "    </tr>\n",
              "  </tbody>\n",
              "</table>\n",
              "</div>"
            ],
            "text/plain": [
              "   Artikel-Nr.  Stat.Menge          Sum  ...     Std Variance_Coeff    Class\n",
              "0        10408  54666156.0  5.46662e+07  ...  224011       0.213086  Class X\n",
              "1        10101  35821248.0  3.58212e+07  ...  166256       0.241346  Class X\n",
              "2        10407  31911372.0  3.19114e+07  ...  149174       0.243081  Class X\n",
              "3        20410  49738548.0  4.97385e+07  ...  143935       0.150479  Class X\n",
              "4        10100  20949888.0  2.09499e+07  ...  112902       0.280236  Class X\n",
              "\n",
              "[5 rows x 7 columns]"
            ]
          },
          "metadata": {
            "tags": []
          },
          "execution_count": 47
        }
      ]
    },
    {
      "cell_type": "code",
      "metadata": {
        "id": "HRQpSetYZI-Q"
      },
      "source": [
        "df_articles_XYZ.sort_values(by='Std', ascending=False, ignore_index=True, inplace=True)"
      ],
      "execution_count": 43,
      "outputs": []
    },
    {
      "cell_type": "code",
      "metadata": {
        "colab": {
          "base_uri": "https://localhost:8080/"
        },
        "id": "o-d3EdNMZfeW",
        "outputId": "abeb6631-61a2-4426-8516-32a32456a6bc"
      },
      "source": [
        "df_articles_XYZ['Sum'].sum()"
      ],
      "execution_count": 48,
      "outputs": [
        {
          "output_type": "execute_result",
          "data": {
            "text/plain": [
              "508891303.0"
            ]
          },
          "metadata": {
            "tags": []
          },
          "execution_count": 48
        }
      ]
    },
    {
      "cell_type": "code",
      "metadata": {
        "colab": {
          "base_uri": "https://localhost:8080/"
        },
        "id": "p17h0qfXzGjL",
        "outputId": "d6c1de18-d4f7-4878-eb8e-aafe12101455"
      },
      "source": [
        "df_demand['Stat.Menge'].sum()"
      ],
      "execution_count": 49,
      "outputs": [
        {
          "output_type": "execute_result",
          "data": {
            "text/plain": [
              "508891303.0"
            ]
          },
          "metadata": {
            "tags": []
          },
          "execution_count": 49
        }
      ]
    },
    {
      "cell_type": "markdown",
      "metadata": {
        "id": "Hu0me2bgyI1a"
      },
      "source": [
        "\r\n",
        "\r\n",
        "---\r\n",
        "#ABC_XYZ_Analysis\r\n",
        "---\r\n",
        "\r\n",
        "\r\n"
      ]
    },
    {
      "cell_type": "code",
      "metadata": {
        "id": "VgIios4gyIKe"
      },
      "source": [
        "#Define Function for ABC_XYZ analysis\r\n",
        "def ABC_XYZ_Analysis(df, XYZ_on, according_to, date_column):\r\n",
        "    items = df[XYZ_on].unique()   #list of all articles\r\n",
        "    items_group = df.groupby([XYZ_on])\r\n",
        "    df_items_grouped = df.groupby(XYZ_on)[according_to].sum().reset_index().copy()\r\n",
        "    df_items_grouped['Sum']='NAN'\r\n",
        "    df_items_grouped['Mean']='NAN'\r\n",
        "    df_items_grouped['Std']='NAN'\r\n",
        "    for item in items:\r\n",
        "        dummy_df = items_group.get_group(item).copy()\r\n",
        "        dummy_df.sort_values(by=date_column, ignore_index=True, inplace=True)\r\n",
        "        dummy_df.index=dummy_df[date_column]\r\n",
        "        weekly_val = dummy_df.groupby(pd.Grouper(freq='W'))[according_to].sum().reset_index()\r\n",
        "        sum_sold = weekly_val[according_to].sum()\r\n",
        "        mean_sold = weekly_val[according_to].mean()\r\n",
        "        std_sold = weekly_val[according_to].std(ddof=0)\r\n",
        "        df_items_grouped.loc[df_article_grouped[XYZ_on]==item, 'Sum']=sum_sold\r\n",
        "        df_items_grouped.loc[df_article_grouped[XYZ_on]==item, 'Mean']=mean_sold\r\n",
        "        df_items_grouped.loc[df_article_grouped[XYZ_on]==item, 'Std']=std_sold\r\n",
        "    df_items_grouped['Variance_Coeff']=df_items_grouped['Std']/df_items_grouped['Mean']\r\n",
        "    df_items_grouped.sort_values(by='Variance_Coeff', ascending=True, ignore_index=True, inplace=True)\r\n",
        "    df_items_grouped['Class_XYZ']='Class Y'\r\n",
        "    df_items_grouped.loc[df_items_grouped['Variance_Coeff']<=0.5, ['Class_XYZ']]='Class X'\r\n",
        "    df_items_grouped.loc[df_items_grouped['Variance_Coeff']>1, ['Class_XYZ']]='Class Z'\r\n",
        "    df_items_grouped['Percent_Sales'] = 100*df_items_grouped['Sum']/df_items_grouped['Sum'].sum()\r\n",
        "    df_items_grouped.sort_values(by='Percent_Sales', ascending=False, ignore_index=True, inplace=True)\r\n",
        "    df_items_grouped['Cumulative_Sales_Percentage'] = df_items_grouped['Percent_Sales'].cumsum()\r\n",
        "    df_items_grouped['Class_ABC']='Class B'\r\n",
        "    df_items_grouped.loc[df_items_grouped['Cumulative_Sales_Percentage']<=80, ['Class_ABC']]='Class A'\r\n",
        "    df_items_grouped.loc[df_items_grouped['Cumulative_Sales_Percentage']>95, ['Class_ABC']]='Class C'\r\n",
        "    df_items_grouped['Class_ABC_XYZ'] = 'TBD'\r\n",
        "    df_items_grouped.loc[(df_items_grouped['Class_ABC']=='Class A') & (df_items_grouped['Class_XYZ']=='Class X'), ['Class_ABC_XYZ']]='A/X'\r\n",
        "    df_items_grouped.loc[(df_items_grouped['Class_ABC']=='Class A') & (df_items_grouped['Class_XYZ']=='Class Y'), ['Class_ABC_XYZ']]='A/Y'\r\n",
        "    df_items_grouped.loc[(df_items_grouped['Class_ABC']=='Class A') & (df_items_grouped['Class_XYZ']=='Class Z'), ['Class_ABC_XYZ']]='A/Z'\r\n",
        "    df_items_grouped.loc[(df_items_grouped['Class_ABC']=='Class B') & (df_items_grouped['Class_XYZ']=='Class X'), ['Class_ABC_XYZ']]='B/X'\r\n",
        "    df_items_grouped.loc[(df_items_grouped['Class_ABC']=='Class B') & (df_items_grouped['Class_XYZ']=='Class Y'), ['Class_ABC_XYZ']]='B/Y'\r\n",
        "    df_items_grouped.loc[(df_items_grouped['Class_ABC']=='Class B') & (df_items_grouped['Class_XYZ']=='Class Z'), ['Class_ABC_XYZ']]='B/Z'\r\n",
        "    df_items_grouped.loc[(df_items_grouped['Class_ABC']=='Class C') & (df_items_grouped['Class_XYZ']=='Class X'), ['Class_ABC_XYZ']]='C/X'\r\n",
        "    df_items_grouped.loc[(df_items_grouped['Class_ABC']=='Class C') & (df_items_grouped['Class_XYZ']=='Class Y'), ['Class_ABC_XYZ']]='C/Y'\r\n",
        "    df_items_grouped.loc[(df_items_grouped['Class_ABC']=='Class C') & (df_items_grouped['Class_XYZ']=='Class Z'), ['Class_ABC_XYZ']]='C/Z'\r\n",
        "    return(df_items_grouped)"
      ],
      "execution_count": 62,
      "outputs": []
    },
    {
      "cell_type": "code",
      "metadata": {
        "id": "62pUJR0s09NK"
      },
      "source": [
        "df_articles_ABC_XYZ = ABC_XYZ_Analysis(df_demand, 'Artikel-Nr.', 'Stat.Menge', 'Belegdatum')"
      ],
      "execution_count": 63,
      "outputs": []
    },
    {
      "cell_type": "code",
      "metadata": {
        "colab": {
          "base_uri": "https://localhost:8080/",
          "height": 234
        },
        "id": "CxoJaq3D1QRb",
        "outputId": "d0876149-fdc8-42a6-9b36-25c56f597544"
      },
      "source": [
        "df_articles_ABC_XYZ.head()"
      ],
      "execution_count": 64,
      "outputs": [
        {
          "output_type": "execute_result",
          "data": {
            "text/html": [
              "<div>\n",
              "<style scoped>\n",
              "    .dataframe tbody tr th:only-of-type {\n",
              "        vertical-align: middle;\n",
              "    }\n",
              "\n",
              "    .dataframe tbody tr th {\n",
              "        vertical-align: top;\n",
              "    }\n",
              "\n",
              "    .dataframe thead th {\n",
              "        text-align: right;\n",
              "    }\n",
              "</style>\n",
              "<table border=\"1\" class=\"dataframe\">\n",
              "  <thead>\n",
              "    <tr style=\"text-align: right;\">\n",
              "      <th></th>\n",
              "      <th>Artikel-Nr.</th>\n",
              "      <th>Stat.Menge</th>\n",
              "      <th>Sum</th>\n",
              "      <th>Mean</th>\n",
              "      <th>Std</th>\n",
              "      <th>Variance_Coeff</th>\n",
              "      <th>Class_XYZ</th>\n",
              "      <th>Percent_Sales</th>\n",
              "      <th>Cumulative_Sales_Percentage</th>\n",
              "      <th>Class_ABC</th>\n",
              "      <th>Class_ABC_XYZ</th>\n",
              "    </tr>\n",
              "  </thead>\n",
              "  <tbody>\n",
              "    <tr>\n",
              "      <th>0</th>\n",
              "      <td>10408</td>\n",
              "      <td>54666156.0</td>\n",
              "      <td>5.46662e+07</td>\n",
              "      <td>1.05127e+06</td>\n",
              "      <td>224011</td>\n",
              "      <td>0.213086</td>\n",
              "      <td>Class X</td>\n",
              "      <td>10.7422</td>\n",
              "      <td>10.7422</td>\n",
              "      <td>Class A</td>\n",
              "      <td>A/X</td>\n",
              "    </tr>\n",
              "    <tr>\n",
              "      <th>1</th>\n",
              "      <td>20410</td>\n",
              "      <td>49738548.0</td>\n",
              "      <td>4.97385e+07</td>\n",
              "      <td>956511</td>\n",
              "      <td>143935</td>\n",
              "      <td>0.150479</td>\n",
              "      <td>Class X</td>\n",
              "      <td>9.7739</td>\n",
              "      <td>20.5161</td>\n",
              "      <td>Class A</td>\n",
              "      <td>A/X</td>\n",
              "    </tr>\n",
              "    <tr>\n",
              "      <th>2</th>\n",
              "      <td>10101</td>\n",
              "      <td>35821248.0</td>\n",
              "      <td>3.58212e+07</td>\n",
              "      <td>688870</td>\n",
              "      <td>166256</td>\n",
              "      <td>0.241346</td>\n",
              "      <td>Class X</td>\n",
              "      <td>7.03908</td>\n",
              "      <td>27.5552</td>\n",
              "      <td>Class A</td>\n",
              "      <td>A/X</td>\n",
              "    </tr>\n",
              "    <tr>\n",
              "      <th>3</th>\n",
              "      <td>10407</td>\n",
              "      <td>31911372.0</td>\n",
              "      <td>3.19114e+07</td>\n",
              "      <td>613680</td>\n",
              "      <td>149174</td>\n",
              "      <td>0.243081</td>\n",
              "      <td>Class X</td>\n",
              "      <td>6.27076</td>\n",
              "      <td>33.826</td>\n",
              "      <td>Class A</td>\n",
              "      <td>A/X</td>\n",
              "    </tr>\n",
              "    <tr>\n",
              "      <th>4</th>\n",
              "      <td>20210</td>\n",
              "      <td>30988272.0</td>\n",
              "      <td>3.09883e+07</td>\n",
              "      <td>595928</td>\n",
              "      <td>88277.8</td>\n",
              "      <td>0.148135</td>\n",
              "      <td>Class X</td>\n",
              "      <td>6.08937</td>\n",
              "      <td>39.9153</td>\n",
              "      <td>Class A</td>\n",
              "      <td>A/X</td>\n",
              "    </tr>\n",
              "  </tbody>\n",
              "</table>\n",
              "</div>"
            ],
            "text/plain": [
              "   Artikel-Nr.  Stat.Menge  ... Class_ABC Class_ABC_XYZ\n",
              "0        10408  54666156.0  ...   Class A           A/X\n",
              "1        20410  49738548.0  ...   Class A           A/X\n",
              "2        10101  35821248.0  ...   Class A           A/X\n",
              "3        10407  31911372.0  ...   Class A           A/X\n",
              "4        20210  30988272.0  ...   Class A           A/X\n",
              "\n",
              "[5 rows x 11 columns]"
            ]
          },
          "metadata": {
            "tags": []
          },
          "execution_count": 64
        }
      ]
    },
    {
      "cell_type": "code",
      "metadata": {
        "colab": {
          "base_uri": "https://localhost:8080/"
        },
        "id": "X7xCc_Te4U2w",
        "outputId": "80f2992c-a488-4756-89e0-55d005806e11"
      },
      "source": [
        "df_articles_ABC_XYZ['Class_ABC_XYZ'].value_counts()"
      ],
      "execution_count": 68,
      "outputs": [
        {
          "output_type": "execute_result",
          "data": {
            "text/plain": [
              "C/Z    64\n",
              "C/X    49\n",
              "B/X    38\n",
              "C/Y    37\n",
              "A/X    24\n",
              "B/Y     3\n",
              "Name: Class_ABC_XYZ, dtype: int64"
            ]
          },
          "metadata": {
            "tags": []
          },
          "execution_count": 68
        }
      ]
    },
    {
      "cell_type": "code",
      "metadata": {
        "colab": {
          "base_uri": "https://localhost:8080/",
          "height": 154
        },
        "id": "y2AfyqYl5jKy",
        "outputId": "18af6e0e-7389-4120-a363-fe27574434ad"
      },
      "source": [
        "df_articles_ABC_XYZ[df_articles_ABC_XYZ['Class_ABC_XYZ']=='B/Y']"
      ],
      "execution_count": 70,
      "outputs": [
        {
          "output_type": "execute_result",
          "data": {
            "text/html": [
              "<div>\n",
              "<style scoped>\n",
              "    .dataframe tbody tr th:only-of-type {\n",
              "        vertical-align: middle;\n",
              "    }\n",
              "\n",
              "    .dataframe tbody tr th {\n",
              "        vertical-align: top;\n",
              "    }\n",
              "\n",
              "    .dataframe thead th {\n",
              "        text-align: right;\n",
              "    }\n",
              "</style>\n",
              "<table border=\"1\" class=\"dataframe\">\n",
              "  <thead>\n",
              "    <tr style=\"text-align: right;\">\n",
              "      <th></th>\n",
              "      <th>Artikel-Nr.</th>\n",
              "      <th>Stat.Menge</th>\n",
              "      <th>Sum</th>\n",
              "      <th>Mean</th>\n",
              "      <th>Std</th>\n",
              "      <th>Variance_Coeff</th>\n",
              "      <th>Class_XYZ</th>\n",
              "      <th>Percent_Sales</th>\n",
              "      <th>Cumulative_Sales_Percentage</th>\n",
              "      <th>Class_ABC</th>\n",
              "      <th>Class_ABC_XYZ</th>\n",
              "    </tr>\n",
              "  </thead>\n",
              "  <tbody>\n",
              "    <tr>\n",
              "      <th>43</th>\n",
              "      <td>20350</td>\n",
              "      <td>1863720.0</td>\n",
              "      <td>1.86372e+06</td>\n",
              "      <td>35840.8</td>\n",
              "      <td>19076</td>\n",
              "      <td>0.532244</td>\n",
              "      <td>Class Y</td>\n",
              "      <td>0.366231</td>\n",
              "      <td>90.2348</td>\n",
              "      <td>Class B</td>\n",
              "      <td>B/Y</td>\n",
              "    </tr>\n",
              "    <tr>\n",
              "      <th>50</th>\n",
              "      <td>20310</td>\n",
              "      <td>1269732.0</td>\n",
              "      <td>1.26973e+06</td>\n",
              "      <td>24417.9</td>\n",
              "      <td>15849.1</td>\n",
              "      <td>0.649075</td>\n",
              "      <td>Class Y</td>\n",
              "      <td>0.249509</td>\n",
              "      <td>92.2363</td>\n",
              "      <td>Class B</td>\n",
              "      <td>B/Y</td>\n",
              "    </tr>\n",
              "    <tr>\n",
              "      <th>63</th>\n",
              "      <td>20330</td>\n",
              "      <td>825372.0</td>\n",
              "      <td>825372</td>\n",
              "      <td>15872.5</td>\n",
              "      <td>10895.7</td>\n",
              "      <td>0.686448</td>\n",
              "      <td>Class Y</td>\n",
              "      <td>0.16219</td>\n",
              "      <td>94.7617</td>\n",
              "      <td>Class B</td>\n",
              "      <td>B/Y</td>\n",
              "    </tr>\n",
              "  </tbody>\n",
              "</table>\n",
              "</div>"
            ],
            "text/plain": [
              "    Artikel-Nr.  Stat.Menge  ... Class_ABC Class_ABC_XYZ\n",
              "43        20350   1863720.0  ...   Class B           B/Y\n",
              "50        20310   1269732.0  ...   Class B           B/Y\n",
              "63        20330    825372.0  ...   Class B           B/Y\n",
              "\n",
              "[3 rows x 11 columns]"
            ]
          },
          "metadata": {
            "tags": []
          },
          "execution_count": 70
        }
      ]
    },
    {
      "cell_type": "code",
      "metadata": {
        "id": "9XJnJD3b6Aju"
      },
      "source": [
        "df_articles_ABC_XYZ.to_excel('/content/Articles_ABC_XYZ_Analysis.xls')"
      ],
      "execution_count": 71,
      "outputs": []
    },
    {
      "cell_type": "code",
      "metadata": {
        "id": "o-ZpBGmk7StX"
      },
      "source": [
        "#Plotting one article from each class:\r\n",
        "\r\n",
        "#Make list of articles in each class = 9 lists\r\n",
        "articles_AX = df_articles_ABC_XYZ[df_articles_ABC_XYZ['Class_ABC_XYZ']=='A/X']['Artikel-Nr.'].tolist()\r\n",
        "articles_AY = df_articles_ABC_XYZ[df_articles_ABC_XYZ['Class_ABC_XYZ']=='A/Y']['Artikel-Nr.'].tolist()\r\n",
        "articles_AZ = df_articles_ABC_XYZ[df_articles_ABC_XYZ['Class_ABC_XYZ']=='A/Z']['Artikel-Nr.'].tolist()\r\n",
        "articles_BX = df_articles_ABC_XYZ[df_articles_ABC_XYZ['Class_ABC_XYZ']=='B/X']['Artikel-Nr.'].tolist()\r\n",
        "articles_BY = df_articles_ABC_XYZ[df_articles_ABC_XYZ['Class_ABC_XYZ']=='B/Y']['Artikel-Nr.'].tolist()\r\n",
        "articles_BZ = df_articles_ABC_XYZ[df_articles_ABC_XYZ['Class_ABC_XYZ']=='B/Z']['Artikel-Nr.'].tolist()\r\n",
        "articles_CX = df_articles_ABC_XYZ[df_articles_ABC_XYZ['Class_ABC_XYZ']=='C/X']['Artikel-Nr.'].tolist()\r\n",
        "articles_CY = df_articles_ABC_XYZ[df_articles_ABC_XYZ['Class_ABC_XYZ']=='C/Y']['Artikel-Nr.'].tolist()\r\n",
        "articles_CZ = df_articles_ABC_XYZ[df_articles_ABC_XYZ['Class_ABC_XYZ']=='C/Z']['Artikel-Nr.'].tolist()\r\n",
        "max_articles = {'A/X': articles_AX, 'A/Y': articles_AY, 'A/Z': articles_AZ, \r\n",
        "                'B/X': articles_BX, 'B/Y': articles_BZ, 'B/Z': articles_BZ,\r\n",
        "                'C/X': articles_CX, 'C/Y': articles_CY, 'C/Z': articles_CZ}"
      ],
      "execution_count": 114,
      "outputs": []
    },
    {
      "cell_type": "code",
      "metadata": {
        "id": "8okPMZh7_t8C"
      },
      "source": [
        "#From each list select the article with max(Variance_Coeff)\r\n",
        "max_vc = df_articles_ABC_XYZ.groupby('Class_ABC_XYZ')['Variance_Coeff'].max()"
      ],
      "execution_count": 178,
      "outputs": []
    },
    {
      "cell_type": "code",
      "metadata": {
        "colab": {
          "base_uri": "https://localhost:8080/"
        },
        "id": "d0HVaaagGdBe",
        "outputId": "9046a876-79c2-45df-a2ae-0edbce0efc45"
      },
      "source": [
        "max_vc"
      ],
      "execution_count": 172,
      "outputs": [
        {
          "output_type": "execute_result",
          "data": {
            "text/plain": [
              "Class_ABC_XYZ\n",
              "A/X    0.462829\n",
              "B/X    0.477461\n",
              "B/Y    0.686448\n",
              "C/X    0.498857\n",
              "C/Y    0.996642\n",
              "C/Z    3.482097\n",
              "Name: Variance_Coeff, dtype: float64"
            ]
          },
          "metadata": {
            "tags": []
          },
          "execution_count": 172
        }
      ]
    },
    {
      "cell_type": "code",
      "metadata": {
        "id": "4YB7CDmTYd8z"
      },
      "source": [
        "item = 'B/Y'\r\n",
        "item_max_vc = df_articles_ABC_XYZ[(df_articles_ABC_XYZ['Artikel-Nr.'].isin(max_articles[item])) \\\r\n",
        "                                        & (df_articles_ABC_XYZ['Variance_Coeff']==max_vc[item])]['Artikel-Nr.']"
      ],
      "execution_count": 181,
      "outputs": []
    },
    {
      "cell_type": "code",
      "metadata": {
        "colab": {
          "base_uri": "https://localhost:8080/"
        },
        "id": "fLE4EIb1Yfi2",
        "outputId": "c3268676-fe4a-4207-aed1-8104e042cb4b"
      },
      "source": [
        "item_max_vc"
      ],
      "execution_count": 182,
      "outputs": [
        {
          "output_type": "execute_result",
          "data": {
            "text/plain": [
              "Series([], Name: Artikel-Nr., dtype: int64)"
            ]
          },
          "metadata": {
            "tags": []
          },
          "execution_count": 182
        }
      ]
    },
    {
      "cell_type": "code",
      "metadata": {
        "id": "ZTnPEd6jbRHH"
      },
      "source": [
        "import random"
      ],
      "execution_count": 185,
      "outputs": []
    },
    {
      "cell_type": "code",
      "metadata": {
        "colab": {
          "base_uri": "https://localhost:8080/",
          "height": 128
        },
        "id": "HyvkSuu2bfqX",
        "outputId": "96072e8a-3f80-4010-abb1-29ce32de4621"
      },
      "source": [
        "df_articles_ABC_XYZ[(df_articles_ABC_XYZ['Artikel-Nr.'].isin(max_articles['B/Y'])]['Artikel-Nr.']"
      ],
      "execution_count": 193,
      "outputs": [
        {
          "output_type": "error",
          "ename": "SyntaxError",
          "evalue": "ignored",
          "traceback": [
            "\u001b[0;36m  File \u001b[0;32m\"<ipython-input-193-80afcc4bc039>\"\u001b[0;36m, line \u001b[0;32m1\u001b[0m\n\u001b[0;31m    df_articles_ABC_XYZ[(df_articles_ABC_XYZ['Artikel-Nr.'].isin(max_articles['B/Y'])]['Artikel-Nr.']\u001b[0m\n\u001b[0m                                                                                     ^\u001b[0m\n\u001b[0;31mSyntaxError\u001b[0m\u001b[0;31m:\u001b[0m invalid syntax\n"
          ]
        }
      ]
    },
    {
      "cell_type": "code",
      "metadata": {
        "colab": {
          "base_uri": "https://localhost:8080/",
          "height": 128
        },
        "id": "cF1vS6eLLSgp",
        "outputId": "6dd51ed6-637a-4f94-da5b-92650e28a5ac"
      },
      "source": [
        "item = 'B/Y'\r\n",
        "item_max_vcs = df_articles_ABC_XYZ[(df_articles_ABC_XYZ['Artikel-Nr.'].isin(max_articles[item])]['Artikel-Nr.']\r\n",
        "item_max_vc = random.choice(item_max_vcs) \r\n",
        "items_group = df_demand.groupby(['Artikel-Nr.'])\r\n",
        "dummy_df = items_group.get_group(item_max_vc.values[0]).copy()\r\n",
        "dummy_df.sort_values(by='Belegdatum', ignore_index=True, inplace=True)\r\n",
        "dummy_df.index=dummy_df['Belegdatum']\r\n",
        "weekly_val = dummy_df.groupby(pd.Grouper(freq='W'))['Stat.Menge'].sum().reset_index()\r\n",
        "plt.plot(weekly_val['Belegdatum'], weekly_val['Stat.Menge'])"
      ],
      "execution_count": 188,
      "outputs": [
        {
          "output_type": "error",
          "ename": "SyntaxError",
          "evalue": "ignored",
          "traceback": [
            "\u001b[0;36m  File \u001b[0;32m\"<ipython-input-188-1f79c967f99c>\"\u001b[0;36m, line \u001b[0;32m2\u001b[0m\n\u001b[0;31m    item_max_vcs = df_articles_ABC_XYZ[(df_articles_ABC_XYZ['Artikel-Nr.'].isin(max_articles[item])]\u001b[0m\n\u001b[0m                                                                                                   ^\u001b[0m\n\u001b[0;31mSyntaxError\u001b[0m\u001b[0;31m:\u001b[0m invalid syntax\n"
          ]
        }
      ]
    },
    {
      "cell_type": "code",
      "metadata": {
        "colab": {
          "base_uri": "https://localhost:8080/"
        },
        "id": "QjeLIsC5MzQ_",
        "outputId": "f1670388-b0ae-4b66-bff8-89690f6cb5e0"
      },
      "source": [
        "item_max_vc.values[0]"
      ],
      "execution_count": 140,
      "outputs": [
        {
          "output_type": "execute_result",
          "data": {
            "text/plain": [
              "10207"
            ]
          },
          "metadata": {
            "tags": []
          },
          "execution_count": 140
        }
      ]
    },
    {
      "cell_type": "code",
      "metadata": {
        "colab": {
          "base_uri": "https://localhost:8080/"
        },
        "id": "xOYK-BlpLrK7",
        "outputId": "2b4d19b1-01bd-482a-ce0d-f3c6ed7993ec"
      },
      "source": [
        "type(items_group)"
      ],
      "execution_count": 127,
      "outputs": [
        {
          "output_type": "execute_result",
          "data": {
            "text/plain": [
              "pandas.core.groupby.generic.DataFrameGroupBy"
            ]
          },
          "metadata": {
            "tags": []
          },
          "execution_count": 127
        }
      ]
    },
    {
      "cell_type": "code",
      "metadata": {
        "colab": {
          "base_uri": "https://localhost:8080/",
          "height": 1000
        },
        "id": "OZkojvfvJDwi",
        "outputId": "7771a0d1-5656-4625-dd38-a630d7a25535"
      },
      "source": [
        "fig, axs = plt.subplots(nrows=len(max_vc.index), ncols=1, figsize=(20, 40))\r\n",
        "plt.rcParams.update({'font.size': 22})\r\n",
        "#fig.tight_layout()\r\n",
        "for i, item in enumerate(max_vc.index):\r\n",
        "    try:\r\n",
        "        item_max_vc = df_articles_ABC_XYZ[(df_articles_ABC_XYZ['Artikel-Nr.'].isin(max_articles[item])) \\\r\n",
        "                                            & (df_articles_ABC_XYZ['Variance_Coeff']==max_vc[item])]['Artikel-Nr.']\r\n",
        "        items_group = df_demand.groupby('Artikel-Nr.')\r\n",
        "        dummy_df = items_group.get_group(item_max_vc.values[0]).copy()\r\n",
        "        dummy_df.sort_values(by='Belegdatum', ignore_index=True, inplace=True)\r\n",
        "        dummy_df.index=dummy_df['Belegdatum']\r\n",
        "        weekly_val = dummy_df.groupby(pd.Grouper(freq='W'))['Stat.Menge'].sum().reset_index()\r\n",
        "        axs[i].plot(weekly_val['Belegdatum'], weekly_val['Stat.Menge'])\r\n",
        "        axs[i].set_title(f'Typical Demand for Class: {item}')\r\n",
        "    except:\r\n",
        "        try:\r\n",
        "            item_max_vc = random.choice(max_articles[item])\r\n",
        "            items_group = df_demand.groupby('Artikel-Nr.')\r\n",
        "            dummy_df = items_group.get_group(item_max_vc.values[0]).copy()\r\n",
        "            dummy_df.sort_values(by='Belegdatum', ignore_index=True, inplace=True)\r\n",
        "            dummy_df.index=dummy_df['Belegdatum']\r\n",
        "            weekly_val = dummy_df.groupby(pd.Grouper(freq='W'))['Stat.Menge'].sum().reset_index()\r\n",
        "            axs[i].plot(weekly_val['Belegdatum'], weekly_val['Stat.Menge'])\r\n",
        "            axs[i].set_title(f'Typical Demand for Class: {item}')\r\n",
        "        except:\r\n",
        "            pass\r\n",
        "plt.show()"
      ],
      "execution_count": 184,
      "outputs": [
        {
          "output_type": "display_data",
          "data": {
            "image/png": "[encoded data removed]",
            "text/plain": [
              "<Figure size 1440x2880 with 6 Axes>"
            ]
          },
          "metadata": {
            "tags": [],
            "needs_background": "light"
          }
        }
      ]
    },
    {
      "cell_type": "code",
      "metadata": {
        "colab": {
          "base_uri": "https://localhost:8080/",
          "height": 923
        },
        "id": "vth3te4JWoyT",
        "outputId": "29e825a4-3e2a-430c-bdcb-aa68cf2313c0"
      },
      "source": [
        "x=[1,2,3]\r\n",
        "y=[10, 20, 30]\r\n",
        "fi, ax = plt.subplots(nrows=2, ncols=1, figsize=(10, 10))\r\n",
        "fi.tight_layout()\r\n",
        "for i in range(2):\r\n",
        "    ax[i,0].plot(x,y)\r\n",
        "plt.show()"
      ],
      "execution_count": 166,
      "outputs": [
        {
          "output_type": "error",
          "ename": "IndexError",
          "evalue": "ignored",
          "traceback": [
            "\u001b[0;31m---------------------------------------------------------------------------\u001b[0m",
            "\u001b[0;31mIndexError\u001b[0m                                Traceback (most recent call last)",
            "\u001b[0;32m<ipython-input-166-c38bad595904>\u001b[0m in \u001b[0;36m<module>\u001b[0;34m()\u001b[0m\n\u001b[1;32m      4\u001b[0m \u001b[0mfi\u001b[0m\u001b[0;34m.\u001b[0m\u001b[0mtight_layout\u001b[0m\u001b[0;34m(\u001b[0m\u001b[0;34m)\u001b[0m\u001b[0;34m\u001b[0m\u001b[0;34m\u001b[0m\u001b[0m\n\u001b[1;32m      5\u001b[0m \u001b[0;32mfor\u001b[0m \u001b[0mi\u001b[0m \u001b[0;32min\u001b[0m \u001b[0mrange\u001b[0m\u001b[0;34m(\u001b[0m\u001b[0;36m2\u001b[0m\u001b[0;34m)\u001b[0m\u001b[0;34m:\u001b[0m\u001b[0;34m\u001b[0m\u001b[0;34m\u001b[0m\u001b[0m\n\u001b[0;32m----> 6\u001b[0;31m     \u001b[0max\u001b[0m\u001b[0;34m[\u001b[0m\u001b[0mi\u001b[0m\u001b[0;34m,\u001b[0m\u001b[0;36m0\u001b[0m\u001b[0;34m]\u001b[0m\u001b[0;34m.\u001b[0m\u001b[0mplot\u001b[0m\u001b[0;34m(\u001b[0m\u001b[0mx\u001b[0m\u001b[0;34m,\u001b[0m\u001b[0my\u001b[0m\u001b[0;34m)\u001b[0m\u001b[0;34m\u001b[0m\u001b[0;34m\u001b[0m\u001b[0m\n\u001b[0m\u001b[1;32m      7\u001b[0m \u001b[0mplt\u001b[0m\u001b[0;34m.\u001b[0m\u001b[0mshow\u001b[0m\u001b[0;34m(\u001b[0m\u001b[0;34m)\u001b[0m\u001b[0;34m\u001b[0m\u001b[0;34m\u001b[0m\u001b[0m\n",
            "\u001b[0;31mIndexError\u001b[0m: too many indices for array: array is 1-dimensional, but 2 were indexed"
          ]
        },
        {
          "output_type": "display_data",
          "data": {
            "image/png": "[encoded data removed]",
            "text/plain": [
              "<Figure size 720x720 with 2 Axes>"
            ]
          },
          "metadata": {
            "tags": [],
            "needs_background": "light"
          }
        }
      ]
    },
    {
      "cell_type": "code",
      "metadata": {
        "id": "mszGgSmGBBz5"
      },
      "source": [
        "for item in max_vc.index:\r\n",
        "    try:\r\n",
        "        item_max_vc = df_articles_ABC_XYZ[(df_articles_ABC_XYZ['Artikel-Nr.'].isin(max_articles[item])) & (df_articles_ABC_XYZ['Variance_Coeff']==max_vc[item])]['Artikel-Nr.']\r\n",
        "        dummy_df = article_group.get_group(ax_article_max_vc).copy()\r\n",
        "        dummy_df.sort_values(by=date_column, ignore_index=True, inplace=True)\r\n",
        "        dummy_df.index=dummy_df[date_column]\r\n",
        "        weekly_val = dummy_df.groupby(pd.Grouper(freq='W'))[according_to].sum().reset_index()\r\n",
        "        plt.plot(weekly_val['Belegdatum'], weekly_val['Stat.Menge'])\r\n",
        "    except:\r\n",
        "        pass\r\n",
        "try:\r\n",
        "    ay_article_max_vc = df_articles_ABC_XYZ[(df_articles_ABC_XYZ['Artikel-Nr.'].isin(ay_articles)) & (df_articles_ABC_XYZ['Variance_Coeff']==max_vc['A/Y'])]['Artikel-Nr.']\r\n",
        "except:\r\n",
        "    pass\r\n",
        "try:\r\n",
        "    az_article_max_vc = df_articles_ABC_XYZ[(df_articles_ABC_XYZ['Artikel-Nr.'].isin(az_articles)) & (df_articles_ABC_XYZ['Variance_Coeff']==max_vc['A/Z'])]['Artikel-Nr.']\r\n",
        "except:\r\n",
        "    pass\r\n",
        "try:\r\n",
        "    bx_article_max_vc = df_articles_ABC_XYZ[(df_articles_ABC_XYZ['Artikel-Nr.'].isin(bx_articles)) & (df_articles_ABC_XYZ['Variance_Coeff']==max_vc['B/X'])]['Artikel-Nr.']\r\n",
        "except:\r\n",
        "    pass\r\n",
        "try:\r\n",
        "    by_article_max_vc = df_articles_ABC_XYZ[(df_articles_ABC_XYZ['Artikel-Nr.'].isin(by_articles)) & (df_articles_ABC_XYZ['Variance_Coeff']==max_vc['B/Y'])]['Artikel-Nr.']\r\n",
        "except:\r\n",
        "    pass\r\n",
        "try:\r\n",
        "    bz_article_max_vc = df_articles_ABC_XYZ[(df_articles_ABC_XYZ['Artikel-Nr.'].isin(bz_articles)) & (df_articles_ABC_XYZ['Variance_Coeff']==max_vc['B/Z'])]['Artikel-Nr.']\r\n",
        "except:\r\n",
        "    pass\r\n",
        "try:\r\n",
        "    cx_article_max_vc = df_articles_ABC_XYZ[(df_articles_ABC_XYZ['Artikel-Nr.'].isin(cx_articles)) & (df_articles_ABC_XYZ['Variance_Coeff']==max_vc['C/X'])]['Artikel-Nr.']\r\n",
        "except:\r\n",
        "    pass\r\n",
        "try:\r\n",
        "    cy_article_max_vc = df_articles_ABC_XYZ[(df_articles_ABC_XYZ['Artikel-Nr.'].isin(cy_articles)) & (df_articles_ABC_XYZ['Variance_Coeff']==max_vc['C/Y'])]['Artikel-Nr.']\r\n",
        "except:\r\n",
        "    pass\r\n",
        "try:\r\n",
        "    cz_article_max_vc = df_articles_ABC_XYZ[(df_articles_ABC_XYZ['Artikel-Nr.'].isin(cz_articles)) & (df_articles_ABC_XYZ['Variance_Coeff']==max_vc['C/Z'])]['Artikel-Nr.']\r\n",
        "except:\r\n",
        "    pass"
      ],
      "execution_count": 103,
      "outputs": []
    },
    {
      "cell_type": "code",
      "metadata": {
        "id": "2BcIbTLvBpNq"
      },
      "source": [
        ""
      ],
      "execution_count": null,
      "outputs": []
    },
    {
      "cell_type": "code",
      "metadata": {
        "colab": {
          "base_uri": "https://localhost:8080/"
        },
        "id": "1qf6rHAXBm9h",
        "outputId": "d7dd6a70-4fa7-4ecb-90fd-66fb654c9527"
      },
      "source": [
        "ax_article_max_vc"
      ],
      "execution_count": 98,
      "outputs": [
        {
          "output_type": "execute_result",
          "data": {
            "text/plain": [
              "19    10207\n",
              "Name: Artikel-Nr., dtype: int64"
            ]
          },
          "metadata": {
            "tags": []
          },
          "execution_count": 98
        }
      ]
    },
    {
      "cell_type": "code",
      "metadata": {
        "id": "pMd8uom9_w3i"
      },
      "source": [
        "#Plot the Weekly Sales for that article from df_demand"
      ],
      "execution_count": null,
      "outputs": []
    },
    {
      "cell_type": "code",
      "metadata": {
        "colab": {
          "base_uri": "https://localhost:8080/"
        },
        "id": "Z_Ya5L4W9Icm",
        "outputId": "153527c9-073f-4ac6-f072-2900d131b9be"
      },
      "source": [
        "len(ax_articles)"
      ],
      "execution_count": 88,
      "outputs": [
        {
          "output_type": "execute_result",
          "data": {
            "text/plain": [
              "24"
            ]
          },
          "metadata": {
            "tags": []
          },
          "execution_count": 88
        }
      ]
    },
    {
      "cell_type": "markdown",
      "metadata": {
        "id": "dBVK8jYmQ40K"
      },
      "source": [
        "###Demand Situation:\r\n",
        "order data: XYZ analysis- perform XYZ analysis and interpretate the findings. \r\n",
        "\r\n",
        "Try to find if something is going wrong with the company\r\n",
        "\r\n",
        "Have data such that the inventory data is compared to the sales figures in the two week buckets\r\n",
        "\r\n",
        "what is special about the beverage market\r\n",
        "\r\n",
        "perishable articles should not be stored so should not be a lot of difference between inventory and demand\r\n",
        "\r\n",
        "Q3 and A4 data will be uploaded.\r\n",
        "\r\n",
        "\r\n"
      ]
    },
    {
      "cell_type": "markdown",
      "metadata": {
        "id": "r8bSNVTUrBx4"
      },
      "source": [
        "##Making the dataframe comparing sales and inventory:\r\n",
        "\r\n",
        "\r\n",
        "1.   Aggregate total sales grouped by Artikel-Nr. from df_demand\r\n",
        "2.   Resample the data biweekly\r\n",
        "1.   Import the inventory_pallet excel file as a dataframe\r\n",
        "2.   Add the biweekly demand information to the suitable biweekly inventory column in the inventory_pallet dataframe\r\n",
        "\r\n",
        "Note: The inventory pallet dataframe has values arranged as columns\r\n",
        "\r\n",
        "\r\n",
        "\r\n",
        "\r\n",
        "\r\n",
        "\r\n",
        "\r\n",
        "\r\n",
        "\r\n",
        "\r\n"
      ]
    },
    {
      "cell_type": "code",
      "metadata": {
        "id": "SsbagM8prBId"
      },
      "source": [
        ""
      ],
      "execution_count": null,
      "outputs": []
    }
  ]
}